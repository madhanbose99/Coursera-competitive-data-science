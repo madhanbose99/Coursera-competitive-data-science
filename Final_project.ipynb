{
 "cells": [
  {
   "cell_type": "code",
   "execution_count": 118,
   "metadata": {},
   "outputs": [],
   "source": [
    "# I use Google Colab for this task, therefore file directories are designed for this."
   ]
  },
  {
   "cell_type": "markdown",
   "metadata": {
    "colab_type": "text",
    "id": "-BQeWWqv_zfU"
   },
   "source": [
    "# Final project: Predict Future Sales"
   ]
  },
  {
   "cell_type": "markdown",
   "metadata": {
    "colab_type": "text",
    "id": "fIi1q7hu_zfV"
   },
   "source": [
    "## Step 1: import libraries and load data"
   ]
  },
  {
   "cell_type": "code",
   "execution_count": 0,
   "metadata": {
    "colab": {},
    "colab_type": "code",
    "id": "weh1PSMv_zfX"
   },
   "outputs": [],
   "source": [
    "import numpy as np\n",
    "import pandas as pd\n",
    "import matplotlib.pyplot as plt\n",
    "%matplotlib inline\n",
    "from datetime import datetime\n",
    "from sklearn.preprocessing import LabelEncoder\n",
    "from itertools import product\n",
    "import time\n",
    "import io\n",
    "from sklearn.linear_model import Ridge, RidgeCV"
   ]
  },
  {
   "cell_type": "code",
   "execution_count": 3,
   "metadata": {
    "colab": {
     "base_uri": "https://localhost:8080/",
     "height": 242,
     "resources": {
      "http://localhost:8080/nbextensions/google.colab/files.js": {
       "data": "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",
       "headers": [
        [
         "content-type",
         "application/javascript"
        ]
       ],
       "ok": true,
       "status": 200,
       "status_text": ""
      }
     }
    },
    "colab_type": "code",
    "id": "xmg2f0-XABT_",
    "outputId": "e332c1e6-bd0f-4bae-a37b-c8692da4a3f4"
   },
   "outputs": [
    {
     "data": {
      "text/html": [
       "\n",
       "     <input type=\"file\" id=\"files-b5c344f9-2a6c-45fe-b922-6e5fcc48da55\" name=\"files[]\" multiple disabled />\n",
       "     <output id=\"result-b5c344f9-2a6c-45fe-b922-6e5fcc48da55\">\n",
       "      Upload widget is only available when the cell has been executed in the\n",
       "      current browser session. Please rerun this cell to enable.\n",
       "      </output>\n",
       "      <script src=\"/nbextensions/google.colab/files.js\"></script> "
      ],
      "text/plain": [
       "<IPython.core.display.HTML object>"
      ]
     },
     "metadata": {
      "tags": []
     },
     "output_type": "display_data"
    },
    {
     "name": "stdout",
     "output_type": "stream",
     "text": [
      "Saving item_categories.csv to item_categories.csv\n",
      "Saving items.csv to items.csv\n",
      "Saving sales_train_v2.csv to sales_train_v2.csv\n",
      "Saving shops.csv to shops.csv\n",
      "Saving test.csv to test.csv\n"
     ]
    }
   ],
   "source": [
    "from google.colab import files\n",
    "uploaded = files.upload()"
   ]
  },
  {
   "cell_type": "code",
   "execution_count": 0,
   "metadata": {
    "colab": {},
    "colab_type": "code",
    "id": "RuMXoLqc_zfd"
   },
   "outputs": [],
   "source": [
    "item_categories = pd.read_csv(io.BytesIO(uploaded['item_categories.csv']))\n",
    "items = pd.read_csv(io.BytesIO(uploaded['items.csv']))\n",
    "sales_train = pd.read_csv(io.BytesIO(uploaded['sales_train_v2.csv']))\n",
    "shops = pd.read_csv(io.BytesIO(uploaded['shops.csv']))\n",
    "test = pd.read_csv(io.BytesIO(uploaded['test.csv']))"
   ]
  },
  {
   "cell_type": "markdown",
   "metadata": {
    "colab_type": "text",
    "id": "JSzhpDQT_zfg"
   },
   "source": [
    "## Step 2: EDA"
   ]
  },
  {
   "cell_type": "markdown",
   "metadata": {
    "colab_type": "text",
    "id": "3hoI_9cq_zfh"
   },
   "source": [
    "### Let's look at the shape of our DataFrames"
   ]
  },
  {
   "cell_type": "code",
   "execution_count": 5,
   "metadata": {
    "colab": {
     "base_uri": "https://localhost:8080/",
     "height": 34
    },
    "colab_type": "code",
    "id": "fEK-2eXU_zfi",
    "outputId": "ceb98914-9639-45f0-ab3b-2d28a51f64e1"
   },
   "outputs": [
    {
     "name": "stdout",
     "output_type": "stream",
     "text": [
      "sales_train shape:  (2935849, 6)\n"
     ]
    }
   ],
   "source": [
    "print('sales_train shape: ', sales_train.shape)"
   ]
  },
  {
   "cell_type": "code",
   "execution_count": 6,
   "metadata": {
    "colab": {
     "base_uri": "https://localhost:8080/",
     "height": 34
    },
    "colab_type": "code",
    "id": "FWLuosnD_zfn",
    "outputId": "7042f3fc-0eed-4568-81ca-38630a7b79c2"
   },
   "outputs": [
    {
     "name": "stdout",
     "output_type": "stream",
     "text": [
      "items:  (22170, 3)\n"
     ]
    }
   ],
   "source": [
    "print('items: ', items.shape)"
   ]
  },
  {
   "cell_type": "code",
   "execution_count": 7,
   "metadata": {
    "colab": {
     "base_uri": "https://localhost:8080/",
     "height": 34
    },
    "colab_type": "code",
    "id": "LOpR7u1C_zfr",
    "outputId": "a6304a8b-be0d-4c59-8160-16b0df5fbe5c"
   },
   "outputs": [
    {
     "name": "stdout",
     "output_type": "stream",
     "text": [
      "item_categories shape:  (84, 2)\n"
     ]
    }
   ],
   "source": [
    "print('item_categories shape: ', item_categories.shape)"
   ]
  },
  {
   "cell_type": "code",
   "execution_count": 8,
   "metadata": {
    "colab": {
     "base_uri": "https://localhost:8080/",
     "height": 34
    },
    "colab_type": "code",
    "id": "gv1cIj8y_zfu",
    "outputId": "2e67c129-78d7-4f07-8e7d-4b915f4c0fa8"
   },
   "outputs": [
    {
     "name": "stdout",
     "output_type": "stream",
     "text": [
      "shops shape:  (60, 2)\n"
     ]
    }
   ],
   "source": [
    "print('shops shape: ', shops.shape)"
   ]
  },
  {
   "cell_type": "code",
   "execution_count": 9,
   "metadata": {
    "colab": {
     "base_uri": "https://localhost:8080/",
     "height": 34
    },
    "colab_type": "code",
    "id": "z5L1MYsY_zfx",
    "outputId": "39a14f88-acd0-46a0-8dbe-01b6a374aea1"
   },
   "outputs": [
    {
     "name": "stdout",
     "output_type": "stream",
     "text": [
      "test shape:  (214200, 3)\n"
     ]
    }
   ],
   "source": [
    "print('test shape: ', test.shape)"
   ]
  },
  {
   "cell_type": "markdown",
   "metadata": {
    "colab_type": "text",
    "id": "lZ8Aq2_Z_zf0"
   },
   "source": [
    "### First rows of data"
   ]
  },
  {
   "cell_type": "code",
   "execution_count": 10,
   "metadata": {
    "colab": {
     "base_uri": "https://localhost:8080/",
     "height": 195
    },
    "colab_type": "code",
    "id": "g5-_swbS_zf0",
    "outputId": "9533a767-3c88-4ab4-ddd6-67f42f5df420"
   },
   "outputs": [
    {
     "data": {
      "text/html": [
       "<div>\n",
       "<style scoped>\n",
       "    .dataframe tbody tr th:only-of-type {\n",
       "        vertical-align: middle;\n",
       "    }\n",
       "\n",
       "    .dataframe tbody tr th {\n",
       "        vertical-align: top;\n",
       "    }\n",
       "\n",
       "    .dataframe thead th {\n",
       "        text-align: right;\n",
       "    }\n",
       "</style>\n",
       "<table border=\"1\" class=\"dataframe\">\n",
       "  <thead>\n",
       "    <tr style=\"text-align: right;\">\n",
       "      <th></th>\n",
       "      <th>date</th>\n",
       "      <th>date_block_num</th>\n",
       "      <th>shop_id</th>\n",
       "      <th>item_id</th>\n",
       "      <th>item_price</th>\n",
       "      <th>item_cnt_day</th>\n",
       "    </tr>\n",
       "  </thead>\n",
       "  <tbody>\n",
       "    <tr>\n",
       "      <th>0</th>\n",
       "      <td>02.01.2013</td>\n",
       "      <td>0</td>\n",
       "      <td>59</td>\n",
       "      <td>22154</td>\n",
       "      <td>999.00</td>\n",
       "      <td>1.0</td>\n",
       "    </tr>\n",
       "    <tr>\n",
       "      <th>1</th>\n",
       "      <td>03.01.2013</td>\n",
       "      <td>0</td>\n",
       "      <td>25</td>\n",
       "      <td>2552</td>\n",
       "      <td>899.00</td>\n",
       "      <td>1.0</td>\n",
       "    </tr>\n",
       "    <tr>\n",
       "      <th>2</th>\n",
       "      <td>05.01.2013</td>\n",
       "      <td>0</td>\n",
       "      <td>25</td>\n",
       "      <td>2552</td>\n",
       "      <td>899.00</td>\n",
       "      <td>-1.0</td>\n",
       "    </tr>\n",
       "    <tr>\n",
       "      <th>3</th>\n",
       "      <td>06.01.2013</td>\n",
       "      <td>0</td>\n",
       "      <td>25</td>\n",
       "      <td>2554</td>\n",
       "      <td>1709.05</td>\n",
       "      <td>1.0</td>\n",
       "    </tr>\n",
       "    <tr>\n",
       "      <th>4</th>\n",
       "      <td>15.01.2013</td>\n",
       "      <td>0</td>\n",
       "      <td>25</td>\n",
       "      <td>2555</td>\n",
       "      <td>1099.00</td>\n",
       "      <td>1.0</td>\n",
       "    </tr>\n",
       "  </tbody>\n",
       "</table>\n",
       "</div>"
      ],
      "text/plain": [
       "         date  date_block_num  shop_id  item_id  item_price  item_cnt_day\n",
       "0  02.01.2013               0       59    22154      999.00           1.0\n",
       "1  03.01.2013               0       25     2552      899.00           1.0\n",
       "2  05.01.2013               0       25     2552      899.00          -1.0\n",
       "3  06.01.2013               0       25     2554     1709.05           1.0\n",
       "4  15.01.2013               0       25     2555     1099.00           1.0"
      ]
     },
     "execution_count": 10,
     "metadata": {
      "tags": []
     },
     "output_type": "execute_result"
    }
   ],
   "source": [
    "sales_train.head()"
   ]
  },
  {
   "cell_type": "code",
   "execution_count": 11,
   "metadata": {
    "colab": {
     "base_uri": "https://localhost:8080/",
     "height": 195
    },
    "colab_type": "code",
    "id": "a25wKOwd_zf4",
    "outputId": "1522bcb2-4d6b-4601-fca8-63de3a68ef66"
   },
   "outputs": [
    {
     "data": {
      "text/html": [
       "<div>\n",
       "<style scoped>\n",
       "    .dataframe tbody tr th:only-of-type {\n",
       "        vertical-align: middle;\n",
       "    }\n",
       "\n",
       "    .dataframe tbody tr th {\n",
       "        vertical-align: top;\n",
       "    }\n",
       "\n",
       "    .dataframe thead th {\n",
       "        text-align: right;\n",
       "    }\n",
       "</style>\n",
       "<table border=\"1\" class=\"dataframe\">\n",
       "  <thead>\n",
       "    <tr style=\"text-align: right;\">\n",
       "      <th></th>\n",
       "      <th>item_name</th>\n",
       "      <th>item_id</th>\n",
       "      <th>item_category_id</th>\n",
       "    </tr>\n",
       "  </thead>\n",
       "  <tbody>\n",
       "    <tr>\n",
       "      <th>0</th>\n",
       "      <td>! ВО ВЛАСТИ НАВАЖДЕНИЯ (ПЛАСТ.)         D</td>\n",
       "      <td>0</td>\n",
       "      <td>40</td>\n",
       "    </tr>\n",
       "    <tr>\n",
       "      <th>1</th>\n",
       "      <td>!ABBYY FineReader 12 Professional Edition Full...</td>\n",
       "      <td>1</td>\n",
       "      <td>76</td>\n",
       "    </tr>\n",
       "    <tr>\n",
       "      <th>2</th>\n",
       "      <td>***В ЛУЧАХ СЛАВЫ   (UNV)                    D</td>\n",
       "      <td>2</td>\n",
       "      <td>40</td>\n",
       "    </tr>\n",
       "    <tr>\n",
       "      <th>3</th>\n",
       "      <td>***ГОЛУБАЯ ВОЛНА  (Univ)                      D</td>\n",
       "      <td>3</td>\n",
       "      <td>40</td>\n",
       "    </tr>\n",
       "    <tr>\n",
       "      <th>4</th>\n",
       "      <td>***КОРОБКА (СТЕКЛО)                       D</td>\n",
       "      <td>4</td>\n",
       "      <td>40</td>\n",
       "    </tr>\n",
       "  </tbody>\n",
       "</table>\n",
       "</div>"
      ],
      "text/plain": [
       "                                           item_name  item_id  item_category_id\n",
       "0          ! ВО ВЛАСТИ НАВАЖДЕНИЯ (ПЛАСТ.)         D        0                40\n",
       "1  !ABBYY FineReader 12 Professional Edition Full...        1                76\n",
       "2      ***В ЛУЧАХ СЛАВЫ   (UNV)                    D        2                40\n",
       "3    ***ГОЛУБАЯ ВОЛНА  (Univ)                      D        3                40\n",
       "4        ***КОРОБКА (СТЕКЛО)                       D        4                40"
      ]
     },
     "execution_count": 11,
     "metadata": {
      "tags": []
     },
     "output_type": "execute_result"
    }
   ],
   "source": [
    "items.head()"
   ]
  },
  {
   "cell_type": "code",
   "execution_count": 12,
   "metadata": {
    "colab": {
     "base_uri": "https://localhost:8080/",
     "height": 195
    },
    "colab_type": "code",
    "id": "GvFB36dp_zf8",
    "outputId": "d9755d8f-9a21-4afc-ce65-ac278e6c8b09"
   },
   "outputs": [
    {
     "data": {
      "text/html": [
       "<div>\n",
       "<style scoped>\n",
       "    .dataframe tbody tr th:only-of-type {\n",
       "        vertical-align: middle;\n",
       "    }\n",
       "\n",
       "    .dataframe tbody tr th {\n",
       "        vertical-align: top;\n",
       "    }\n",
       "\n",
       "    .dataframe thead th {\n",
       "        text-align: right;\n",
       "    }\n",
       "</style>\n",
       "<table border=\"1\" class=\"dataframe\">\n",
       "  <thead>\n",
       "    <tr style=\"text-align: right;\">\n",
       "      <th></th>\n",
       "      <th>item_category_name</th>\n",
       "      <th>item_category_id</th>\n",
       "    </tr>\n",
       "  </thead>\n",
       "  <tbody>\n",
       "    <tr>\n",
       "      <th>0</th>\n",
       "      <td>PC - Гарнитуры/Наушники</td>\n",
       "      <td>0</td>\n",
       "    </tr>\n",
       "    <tr>\n",
       "      <th>1</th>\n",
       "      <td>Аксессуары - PS2</td>\n",
       "      <td>1</td>\n",
       "    </tr>\n",
       "    <tr>\n",
       "      <th>2</th>\n",
       "      <td>Аксессуары - PS3</td>\n",
       "      <td>2</td>\n",
       "    </tr>\n",
       "    <tr>\n",
       "      <th>3</th>\n",
       "      <td>Аксессуары - PS4</td>\n",
       "      <td>3</td>\n",
       "    </tr>\n",
       "    <tr>\n",
       "      <th>4</th>\n",
       "      <td>Аксессуары - PSP</td>\n",
       "      <td>4</td>\n",
       "    </tr>\n",
       "  </tbody>\n",
       "</table>\n",
       "</div>"
      ],
      "text/plain": [
       "        item_category_name  item_category_id\n",
       "0  PC - Гарнитуры/Наушники                 0\n",
       "1         Аксессуары - PS2                 1\n",
       "2         Аксессуары - PS3                 2\n",
       "3         Аксессуары - PS4                 3\n",
       "4         Аксессуары - PSP                 4"
      ]
     },
     "execution_count": 12,
     "metadata": {
      "tags": []
     },
     "output_type": "execute_result"
    }
   ],
   "source": [
    "item_categories.head()"
   ]
  },
  {
   "cell_type": "code",
   "execution_count": 13,
   "metadata": {
    "colab": {
     "base_uri": "https://localhost:8080/",
     "height": 195
    },
    "colab_type": "code",
    "id": "TK4Ox84U_zf_",
    "outputId": "ffaf4c67-7d20-4e1b-b85f-3753c05e75fa"
   },
   "outputs": [
    {
     "data": {
      "text/html": [
       "<div>\n",
       "<style scoped>\n",
       "    .dataframe tbody tr th:only-of-type {\n",
       "        vertical-align: middle;\n",
       "    }\n",
       "\n",
       "    .dataframe tbody tr th {\n",
       "        vertical-align: top;\n",
       "    }\n",
       "\n",
       "    .dataframe thead th {\n",
       "        text-align: right;\n",
       "    }\n",
       "</style>\n",
       "<table border=\"1\" class=\"dataframe\">\n",
       "  <thead>\n",
       "    <tr style=\"text-align: right;\">\n",
       "      <th></th>\n",
       "      <th>shop_name</th>\n",
       "      <th>shop_id</th>\n",
       "    </tr>\n",
       "  </thead>\n",
       "  <tbody>\n",
       "    <tr>\n",
       "      <th>0</th>\n",
       "      <td>!Якутск Орджоникидзе, 56 фран</td>\n",
       "      <td>0</td>\n",
       "    </tr>\n",
       "    <tr>\n",
       "      <th>1</th>\n",
       "      <td>!Якутск ТЦ \"Центральный\" фран</td>\n",
       "      <td>1</td>\n",
       "    </tr>\n",
       "    <tr>\n",
       "      <th>2</th>\n",
       "      <td>Адыгея ТЦ \"Мега\"</td>\n",
       "      <td>2</td>\n",
       "    </tr>\n",
       "    <tr>\n",
       "      <th>3</th>\n",
       "      <td>Балашиха ТРК \"Октябрь-Киномир\"</td>\n",
       "      <td>3</td>\n",
       "    </tr>\n",
       "    <tr>\n",
       "      <th>4</th>\n",
       "      <td>Волжский ТЦ \"Волга Молл\"</td>\n",
       "      <td>4</td>\n",
       "    </tr>\n",
       "  </tbody>\n",
       "</table>\n",
       "</div>"
      ],
      "text/plain": [
       "                        shop_name  shop_id\n",
       "0   !Якутск Орджоникидзе, 56 фран        0\n",
       "1   !Якутск ТЦ \"Центральный\" фран        1\n",
       "2                Адыгея ТЦ \"Мега\"        2\n",
       "3  Балашиха ТРК \"Октябрь-Киномир\"        3\n",
       "4        Волжский ТЦ \"Волга Молл\"        4"
      ]
     },
     "execution_count": 13,
     "metadata": {
      "tags": []
     },
     "output_type": "execute_result"
    }
   ],
   "source": [
    "shops.head()"
   ]
  },
  {
   "cell_type": "markdown",
   "metadata": {
    "colab_type": "text",
    "id": "OzjQdRaT_zgD"
   },
   "source": [
    "You may notice that the name of the shops consists of two parts. The first is the name of the city, and the second is the name of the shop itself.\n",
    "Moreover, you can see that the name of one city is presented in two versions (Якутск and !Якутск). For this reason, in the future we will have to replace the name of this city with the same thing."
   ]
  },
  {
   "cell_type": "markdown",
   "metadata": {
    "colab_type": "text",
    "id": "b55aTUuO_zgE"
   },
   "source": [
    "As you can see, table sales_train contains general information about sales by the day, but we need information for each store by month, since we need to make predictions by month. For this purpose in the future we will group our data.\n",
    "\n",
    "Also, we may need to connect the dataframe sales_train and the other tables in order to get more detailed information about the stores and products that they sold."
   ]
  },
  {
   "cell_type": "markdown",
   "metadata": {
    "colab_type": "text",
    "id": "iqGPqCqs_zgE"
   },
   "source": [
    "You can also notice that the data is a time series, therefore, it is necessary to study the changes taking into account the time."
   ]
  },
  {
   "cell_type": "markdown",
   "metadata": {},
   "source": [
    "## Graphs and data visualization"
   ]
  },
  {
   "cell_type": "markdown",
   "metadata": {},
   "source": [
    "### Time series"
   ]
  },
  {
   "cell_type": "code",
   "execution_count": 14,
   "metadata": {
    "colab": {
     "base_uri": "https://localhost:8080/",
     "height": 298
    },
    "colab_type": "code",
    "id": "CDkNRLQf_zgF",
    "outputId": "178d5916-7698-4548-c36d-2d82835ecd1a"
   },
   "outputs": [
    {
     "data": {
      "text/plain": [
       "[<matplotlib.lines.Line2D at 0x7fc011978860>]"
      ]
     },
     "execution_count": 14,
     "metadata": {
      "tags": []
     },
     "output_type": "execute_result"
    },
    {
     "data": {
      "image/png": "[encoded data removed]",
      "text/plain": [
       "<Figure size 432x288 with 1 Axes>"
      ]
     },
     "metadata": {
      "tags": []
     },
     "output_type": "display_data"
    }
   ],
   "source": [
    "plt.title('Time series of sales by month')\n",
    "plt.plot(sales_train.groupby('date_block_num')['item_cnt_day'].sum(), 'm')"
   ]
  },
  {
   "cell_type": "markdown",
   "metadata": {},
   "source": [
    "You may notice that the number of sales varies greatly depending on the month. This may depend on both external factors and the data structure. For example, not all sales for a month may be reflected there, therefore, during training, we must create all possible combinations of shops and items in order to more accurately reflect the nature of the formation of sales."
   ]
  },
  {
   "cell_type": "markdown",
   "metadata": {},
   "source": [
    "### Sales by categories"
   ]
  },
  {
   "cell_type": "code",
   "execution_count": 15,
   "metadata": {
    "colab": {
     "base_uri": "https://localhost:8080/",
     "height": 365
    },
    "colab_type": "code",
    "id": "iHc0fCaR_zgI",
    "outputId": "34ad36c2-259e-42e3-e251-53b197098c20"
   },
   "outputs": [
    {
     "data": {
      "text/plain": [
       "(array([74.,  1.,  4.,  1.,  1.,  1.,  0.,  1.,  0.,  1.]),\n",
       " array([1.00000e+00, 6.34180e+04, 1.26835e+05, 1.90252e+05, 2.53669e+05,\n",
       "        3.17086e+05, 3.80503e+05, 4.43920e+05, 5.07337e+05, 5.70754e+05,\n",
       "        6.34171e+05]),\n",
       " <a list of 10 Patch objects>)"
      ]
     },
     "execution_count": 15,
     "metadata": {
      "tags": []
     },
     "output_type": "execute_result"
    },
    {
     "data": {
      "image/png": "[encoded data removed]",
      "text/plain": [
       "<Figure size 432x288 with 1 Axes>"
      ]
     },
     "metadata": {
      "tags": []
     },
     "output_type": "display_data"
    }
   ],
   "source": [
    "plt.title('Sales by categories')\n",
    "sales_categories = pd.merge(sales_train, items, on='item_id')\n",
    "plt.hist(sales_categories.groupby('item_category_id')['item_cnt_day'].sum())"
   ]
  },
  {
   "cell_type": "markdown",
   "metadata": {},
   "source": [
    "Sales in most categories are small, but the number of sales for some of them is very large."
   ]
  },
  {
   "cell_type": "markdown",
   "metadata": {},
   "source": [
    "### Product Price Analysis"
   ]
  },
  {
   "cell_type": "markdown",
   "metadata": {},
   "source": [
    "An analysis of the price of items can be useful in order to find outliers. In this situation, this is possible, since some price restrictions can be defined."
   ]
  },
  {
   "cell_type": "markdown",
   "metadata": {},
   "source": [
    "From this histogram, you can determine that most prices are from 0 to 50,000, but there are some outliers that the following graph will help us see."
   ]
  },
  {
   "cell_type": "code",
   "execution_count": 16,
   "metadata": {
    "colab": {
     "base_uri": "https://localhost:8080/",
     "height": 386
    },
    "colab_type": "code",
    "id": "Y2LTmzTz_zgL",
    "outputId": "96a344b7-9dde-4e86-bcd6-7d15016df34a"
   },
   "outputs": [
    {
     "data": {
      "text/plain": [
       "(array([2.935632e+06, 2.160000e+02, 0.000000e+00, 0.000000e+00,\n",
       "        0.000000e+00, 0.000000e+00, 0.000000e+00, 0.000000e+00,\n",
       "        0.000000e+00, 1.000000e+00]),\n",
       " array([-1.000000e+00,  3.079710e+04,  6.159520e+04,  9.239330e+04,\n",
       "         1.231914e+05,  1.539895e+05,  1.847876e+05,  2.155857e+05,\n",
       "         2.463838e+05,  2.771819e+05,  3.079800e+05]),\n",
       " <a list of 10 Patch objects>)"
      ]
     },
     "execution_count": 16,
     "metadata": {
      "tags": []
     },
     "output_type": "execute_result"
    },
    {
     "data": {
      "image/png": "[encoded data removed]",
      "text/plain": [
       "<Figure size 432x288 with 1 Axes>"
      ]
     },
     "metadata": {
      "tags": []
     },
     "output_type": "display_data"
    }
   ],
   "source": [
    "plt.hist(sales_train['item_price'])"
   ]
  },
  {
   "cell_type": "markdown",
   "metadata": {},
   "source": [
    "This graph shows that there is one outlier with a price of 300,000. In the formation of training data, we will need to remove it."
   ]
  },
  {
   "cell_type": "code",
   "execution_count": 17,
   "metadata": {
    "colab": {
     "base_uri": "https://localhost:8080/",
     "height": 286
    },
    "colab_type": "code",
    "id": "bJYh9ArB_zgN",
    "outputId": "04f2d3b2-c325-4d98-f53b-feb6d692a88c"
   },
   "outputs": [
    {
     "data": {
      "text/plain": [
       "[<matplotlib.lines.Line2D at 0x7fc00e00b978>]"
      ]
     },
     "execution_count": 17,
     "metadata": {
      "tags": []
     },
     "output_type": "execute_result"
    },
    {
     "data": {
      "image/png": "[encoded data removed]",
      "text/plain": [
       "<Figure size 432x288 with 1 Axes>"
      ]
     },
     "metadata": {
      "tags": []
     },
     "output_type": "display_data"
    }
   ],
   "source": [
    "plt.plot(sales_train['item_price'], '.')"
   ]
  },
  {
   "cell_type": "code",
   "execution_count": 18,
   "metadata": {
    "colab": {
     "base_uri": "https://localhost:8080/",
     "height": 386
    },
    "colab_type": "code",
    "id": "bjj9FyID_zgQ",
    "outputId": "bb4c2291-3ae9-4038-86af-c01ea99f7a03"
   },
   "outputs": [
    {
     "data": {
      "text/plain": [
       "(array([2.900052e+06, 1.444500e+04, 1.069600e+04, 3.691000e+03,\n",
       "        4.228000e+03, 2.283000e+03, 4.070000e+02, 3.300000e+01,\n",
       "        1.000000e+01, 1.000000e+00]),\n",
       " array([-1.00000e+00,  4.97730e+03,  9.95560e+03,  1.49339e+04,\n",
       "         1.99122e+04,  2.48905e+04,  2.98688e+04,  3.48471e+04,\n",
       "         3.98254e+04,  4.48037e+04,  4.97820e+04]),\n",
       " <a list of 10 Patch objects>)"
      ]
     },
     "execution_count": 18,
     "metadata": {
      "tags": []
     },
     "output_type": "execute_result"
    },
    {
     "data": {
      "image/png": "[encoded data removed]",
      "text/plain": [
       "<Figure size 432x288 with 1 Axes>"
      ]
     },
     "metadata": {
      "tags": []
     },
     "output_type": "display_data"
    }
   ],
   "source": [
    "plt.hist(sales_train[sales_train['item_price'] < 50000]['item_price'])"
   ]
  },
  {
   "cell_type": "code",
   "execution_count": 19,
   "metadata": {
    "colab": {
     "base_uri": "https://localhost:8080/",
     "height": 286
    },
    "colab_type": "code",
    "id": "eRn2WoR__zgT",
    "outputId": "ab509ac9-148d-4a50-bc82-72ec2ef622f3"
   },
   "outputs": [
    {
     "data": {
      "text/plain": [
       "[<matplotlib.lines.Line2D at 0x7fc00df69080>]"
      ]
     },
     "execution_count": 19,
     "metadata": {
      "tags": []
     },
     "output_type": "execute_result"
    },
    {
     "data": {
      "image/png": "[encoded data removed]",
      "text/plain": [
       "<Figure size 432x288 with 1 Axes>"
      ]
     },
     "metadata": {
      "tags": []
     },
     "output_type": "display_data"
    }
   ],
   "source": [
    "plt.plot(sales_train[sales_train['item_price'] < 100000]['item_price'], '.')"
   ]
  },
  {
   "cell_type": "markdown",
   "metadata": {},
   "source": [
    "The data contains a negative price, which is impossible."
   ]
  },
  {
   "cell_type": "code",
   "execution_count": 20,
   "metadata": {
    "colab": {
     "base_uri": "https://localhost:8080/",
     "height": 286
    },
    "colab_type": "code",
    "id": "3WNJmVc7_zgW",
    "outputId": "58b40f32-3cf9-42da-b705-84ac78d65279"
   },
   "outputs": [
    {
     "data": {
      "text/plain": [
       "[<matplotlib.lines.Line2D at 0x7fc00dec47f0>]"
      ]
     },
     "execution_count": 20,
     "metadata": {
      "tags": []
     },
     "output_type": "execute_result"
    },
    {
     "data": {
      "image/png": "[encoded data removed]",
      "text/plain": [
       "<Figure size 432x288 with 1 Axes>"
      ]
     },
     "metadata": {
      "tags": []
     },
     "output_type": "display_data"
    }
   ],
   "source": [
    "plt.plot(sales_train[sales_train['item_price'] < 0]['item_price'], '.')"
   ]
  },
  {
   "cell_type": "markdown",
   "metadata": {},
   "source": [
    "### Analysis of the number of sales per day"
   ]
  },
  {
   "cell_type": "markdown",
   "metadata": {},
   "source": [
    "According to the following graphs, you can see that most of the sales are up to 1000, so in the next we will consider them."
   ]
  },
  {
   "cell_type": "code",
   "execution_count": 21,
   "metadata": {
    "colab": {
     "base_uri": "https://localhost:8080/",
     "height": 353
    },
    "colab_type": "code",
    "id": "cyrzVqSh_zgd",
    "outputId": "3d3ed603-fb6c-4c3b-89c1-24da86a032c4"
   },
   "outputs": [
    {
     "data": {
      "text/plain": [
       "(array([2.93581e+06, 2.40000e+01, 1.10000e+01, 2.00000e+00, 1.00000e+00,\n",
       "        0.00000e+00, 0.00000e+00, 0.00000e+00, 0.00000e+00, 1.00000e+00]),\n",
       " array([ -22. ,  197.1,  416.2,  635.3,  854.4, 1073.5, 1292.6, 1511.7,\n",
       "        1730.8, 1949.9, 2169. ]),\n",
       " <a list of 10 Patch objects>)"
      ]
     },
     "execution_count": 21,
     "metadata": {
      "tags": []
     },
     "output_type": "execute_result"
    },
    {
     "data": {
      "image/png": "[encoded data removed]",
      "text/plain": [
       "<Figure size 432x288 with 1 Axes>"
      ]
     },
     "metadata": {
      "tags": []
     },
     "output_type": "display_data"
    }
   ],
   "source": [
    "plt.hist(sales_train['item_cnt_day'])"
   ]
  },
  {
   "cell_type": "code",
   "execution_count": 22,
   "metadata": {
    "colab": {
     "base_uri": "https://localhost:8080/",
     "height": 286
    },
    "colab_type": "code",
    "id": "fywBXV9y_zgj",
    "outputId": "d4d36d31-22b4-47e6-a015-b727ff1f5a4c"
   },
   "outputs": [
    {
     "data": {
      "text/plain": [
       "[<matplotlib.lines.Line2D at 0x7fc00de07470>]"
      ]
     },
     "execution_count": 22,
     "metadata": {
      "tags": []
     },
     "output_type": "execute_result"
    },
    {
     "data": {
      "image/png": "[encoded data removed]",
      "text/plain": [
       "<Figure size 432x288 with 1 Axes>"
      ]
     },
     "metadata": {
      "tags": []
     },
     "output_type": "display_data"
    }
   ],
   "source": [
    "plt.plot(sales_train['item_cnt_day'], '.')"
   ]
  },
  {
   "cell_type": "code",
   "execution_count": 23,
   "metadata": {
    "colab": {
     "base_uri": "https://localhost:8080/",
     "height": 370
    },
    "colab_type": "code",
    "id": "VXr9rWUd_zgm",
    "outputId": "edf91b00-02e9-4a27-ddec-a5f09c3261cc"
   },
   "outputs": [
    {
     "data": {
      "text/plain": [
       "(array([2.935246e+06, 5.020000e+02, 5.900000e+01, 1.400000e+01,\n",
       "        7.000000e+00, 2.000000e+00, 4.000000e+00, 8.000000e+00,\n",
       "        2.000000e+00, 3.000000e+00]),\n",
       " array([-22. ,  47.1, 116.2, 185.3, 254.4, 323.5, 392.6, 461.7, 530.8,\n",
       "        599.9, 669. ]),\n",
       " <a list of 10 Patch objects>)"
      ]
     },
     "execution_count": 23,
     "metadata": {
      "tags": []
     },
     "output_type": "execute_result"
    },
    {
     "data": {
      "image/png": "[encoded data removed]",
      "text/plain": [
       "<Figure size 432x288 with 1 Axes>"
      ]
     },
     "metadata": {
      "tags": []
     },
     "output_type": "display_data"
    }
   ],
   "source": [
    "plt.hist(sales_train[sales_train['item_cnt_day'] < 1000]['item_cnt_day'])"
   ]
  },
  {
   "cell_type": "code",
   "execution_count": 24,
   "metadata": {
    "colab": {
     "base_uri": "https://localhost:8080/",
     "height": 286
    },
    "colab_type": "code",
    "id": "trHOw2F3_zgo",
    "outputId": "7158bfdc-98c3-410f-d98e-34dec42949df"
   },
   "outputs": [
    {
     "data": {
      "text/plain": [
       "[<matplotlib.lines.Line2D at 0x7fc00dd55a90>]"
      ]
     },
     "execution_count": 24,
     "metadata": {
      "tags": []
     },
     "output_type": "execute_result"
    },
    {
     "data": {
      "image/png": "[encoded data removed]",
      "text/plain": [
       "<Figure size 432x288 with 1 Axes>"
      ]
     },
     "metadata": {
      "tags": []
     },
     "output_type": "display_data"
    }
   ],
   "source": [
    "plt.plot(sales_train[sales_train['item_cnt_day'] < 1000]['item_cnt_day'], '.')"
   ]
  },
  {
   "cell_type": "markdown",
   "metadata": {
    "colab_type": "text",
    "id": "B_UtCtzS_zgr"
   },
   "source": [
    "## Step 3: Feature preprocessing and generation with respect to models"
   ]
  },
  {
   "cell_type": "markdown",
   "metadata": {},
   "source": [
    "### Delete duplicates and set date_block_num for test data"
   ]
  },
  {
   "cell_type": "markdown",
   "metadata": {},
   "source": [
    "Shops with the same names, but different id\n",
    "1. Якутск Орджоникидзе, 56\n",
    "2. Якутск ТЦ \"Центральный\"\n",
    "3. Жуковский ул. Чкалова 39м²"
   ]
  },
  {
   "cell_type": "code",
   "execution_count": 0,
   "metadata": {
    "colab": {},
    "colab_type": "code",
    "id": "f6x8FouW_zgs"
   },
   "outputs": [],
   "source": [
    "sales_train.loc[sales_train.shop_id == 0, 'shop_id'] = 57\n",
    "sales_train.loc[sales_train.shop_id == 10, 'shop_id'] = 11\n",
    "sales_train.loc[sales_train.shop_id == 1, 'shop_id'] = 58"
   ]
  },
  {
   "cell_type": "code",
   "execution_count": 0,
   "metadata": {
    "colab": {},
    "colab_type": "code",
    "id": "0g3FPQ14_zgu"
   },
   "outputs": [],
   "source": [
    "test.loc[test.shop_id == 0, 'shop_id'] = 57\n",
    "test.loc[test.shop_id == 1, 'shop_id'] = 58\n",
    "test.loc[test.shop_id == 10, 'shop_id'] = 11"
   ]
  },
  {
   "cell_type": "code",
   "execution_count": 0,
   "metadata": {
    "colab": {},
    "colab_type": "code",
    "id": "2jg_8DDZ_zgw"
   },
   "outputs": [],
   "source": [
    "test['date_block_num'] = 34\n",
    "test['date_block_num'] = test['date_block_num'].astype(np.int8)\n",
    "test['shop_id'] = test['shop_id'].astype(np.int8)\n",
    "test['item_id'] = test['item_id'].astype(np.int16)"
   ]
  },
  {
   "cell_type": "markdown",
   "metadata": {
    "colab_type": "text",
    "id": "2gnp9RMU_zgz"
   },
   "source": [
    "### Remove outliers"
   ]
  },
  {
   "cell_type": "markdown",
   "metadata": {},
   "source": [
    "In this block, we remove the outliers that we discussed earlier, and also work with the names of the stores."
   ]
  },
  {
   "cell_type": "code",
   "execution_count": 0,
   "metadata": {
    "colab": {},
    "colab_type": "code",
    "id": "BKW5frgf_zgz"
   },
   "outputs": [],
   "source": [
    "sales_train = sales_train[sales_train.item_price<100000]\n",
    "sales_train = sales_train[sales_train.item_cnt_day<1001]"
   ]
  },
  {
   "cell_type": "code",
   "execution_count": 0,
   "metadata": {
    "colab": {},
    "colab_type": "code",
    "id": "BvGnI8rK_zg2"
   },
   "outputs": [],
   "source": [
    "sales_train.loc[sales_train.item_price<0, 'item_price'] = sales_train[(sales_train.shop_id==32)&(sales_train.item_id==2973)&(sales_train.date_block_num==4)&(sales_train.item_price>0)].item_price.median()"
   ]
  },
  {
   "cell_type": "code",
   "execution_count": 0,
   "metadata": {
    "colab": {},
    "colab_type": "code",
    "id": "bMVwIIGA_zg5"
   },
   "outputs": [],
   "source": [
    "shops.loc[shops.shop_name == 'Сергиев Посад ТЦ \"7Я\"', 'shop_name'] = 'СергиевПосад ТЦ \"7Я\"'\n",
    "shops['city'] = shops['shop_name'].str.split(' ').map(lambda x: x[0])"
   ]
  },
  {
   "cell_type": "code",
   "execution_count": 31,
   "metadata": {
    "colab": {
     "base_uri": "https://localhost:8080/",
     "height": 118
    },
    "colab_type": "code",
    "id": "UOlAB2zx_zg7",
    "outputId": "5787572e-e693-49a7-bd75-49bf5120e045"
   },
   "outputs": [
    {
     "data": {
      "text/plain": [
       "array(['!Якутск', 'Адыгея', 'Балашиха', 'Волжский', 'Вологда', 'Воронеж',\n",
       "       'Выездная', 'Жуковский', 'Интернет-магазин', 'Казань', 'Калуга',\n",
       "       'Коломна', 'Красноярск', 'Курск', 'Москва', 'Мытищи', 'Н.Новгород',\n",
       "       'Новосибирск', 'Омск', 'РостовНаДону', 'СПб', 'Самара',\n",
       "       'СергиевПосад', 'Сургут', 'Томск', 'Тюмень', 'Уфа', 'Химки',\n",
       "       'Цифровой', 'Чехов', 'Якутск', 'Ярославль'], dtype=object)"
      ]
     },
     "execution_count": 31,
     "metadata": {
      "tags": []
     },
     "output_type": "execute_result"
    }
   ],
   "source": [
    "shops['city'].unique()"
   ]
  },
  {
   "cell_type": "code",
   "execution_count": 0,
   "metadata": {
    "colab": {},
    "colab_type": "code",
    "id": "-l_7d1JS_zg-"
   },
   "outputs": [],
   "source": [
    "shops.loc[shops.city == '!Якутск', 'city'] = 'Якутск'"
   ]
  },
  {
   "cell_type": "code",
   "execution_count": 33,
   "metadata": {
    "colab": {
     "base_uri": "https://localhost:8080/",
     "height": 118
    },
    "colab_type": "code",
    "id": "-bpOyghV_zhA",
    "outputId": "cf210eaf-7bfc-425f-9e1d-4372bcaa6191"
   },
   "outputs": [
    {
     "data": {
      "text/plain": [
       "array(['Якутск', 'Адыгея', 'Балашиха', 'Волжский', 'Вологда', 'Воронеж',\n",
       "       'Выездная', 'Жуковский', 'Интернет-магазин', 'Казань', 'Калуга',\n",
       "       'Коломна', 'Красноярск', 'Курск', 'Москва', 'Мытищи', 'Н.Новгород',\n",
       "       'Новосибирск', 'Омск', 'РостовНаДону', 'СПб', 'Самара',\n",
       "       'СергиевПосад', 'Сургут', 'Томск', 'Тюмень', 'Уфа', 'Химки',\n",
       "       'Цифровой', 'Чехов', 'Ярославль'], dtype=object)"
      ]
     },
     "execution_count": 33,
     "metadata": {
      "tags": []
     },
     "output_type": "execute_result"
    }
   ],
   "source": [
    "shops['city'].unique()"
   ]
  },
  {
   "cell_type": "markdown",
   "metadata": {},
   "source": [
    "LabelEncoder for features connected with shops"
   ]
  },
  {
   "cell_type": "code",
   "execution_count": 0,
   "metadata": {
    "colab": {},
    "colab_type": "code",
    "id": "2df2Nj4D_zhE"
   },
   "outputs": [],
   "source": [
    "shops['city_code'] = LabelEncoder().fit_transform(shops['city'])\n",
    "shops = shops[['shop_id','city_code']]"
   ]
  },
  {
   "cell_type": "code",
   "execution_count": 35,
   "metadata": {
    "colab": {
     "base_uri": "https://localhost:8080/",
     "height": 195
    },
    "colab_type": "code",
    "id": "setLFJBH_zhH",
    "outputId": "44344d84-3aa5-46ee-fb3b-efc4957e26e9"
   },
   "outputs": [
    {
     "data": {
      "text/html": [
       "<div>\n",
       "<style scoped>\n",
       "    .dataframe tbody tr th:only-of-type {\n",
       "        vertical-align: middle;\n",
       "    }\n",
       "\n",
       "    .dataframe tbody tr th {\n",
       "        vertical-align: top;\n",
       "    }\n",
       "\n",
       "    .dataframe thead th {\n",
       "        text-align: right;\n",
       "    }\n",
       "</style>\n",
       "<table border=\"1\" class=\"dataframe\">\n",
       "  <thead>\n",
       "    <tr style=\"text-align: right;\">\n",
       "      <th></th>\n",
       "      <th>item_category_name</th>\n",
       "      <th>item_category_id</th>\n",
       "    </tr>\n",
       "  </thead>\n",
       "  <tbody>\n",
       "    <tr>\n",
       "      <th>0</th>\n",
       "      <td>PC - Гарнитуры/Наушники</td>\n",
       "      <td>0</td>\n",
       "    </tr>\n",
       "    <tr>\n",
       "      <th>1</th>\n",
       "      <td>Аксессуары - PS2</td>\n",
       "      <td>1</td>\n",
       "    </tr>\n",
       "    <tr>\n",
       "      <th>2</th>\n",
       "      <td>Аксессуары - PS3</td>\n",
       "      <td>2</td>\n",
       "    </tr>\n",
       "    <tr>\n",
       "      <th>3</th>\n",
       "      <td>Аксессуары - PS4</td>\n",
       "      <td>3</td>\n",
       "    </tr>\n",
       "    <tr>\n",
       "      <th>4</th>\n",
       "      <td>Аксессуары - PSP</td>\n",
       "      <td>4</td>\n",
       "    </tr>\n",
       "  </tbody>\n",
       "</table>\n",
       "</div>"
      ],
      "text/plain": [
       "        item_category_name  item_category_id\n",
       "0  PC - Гарнитуры/Наушники                 0\n",
       "1         Аксессуары - PS2                 1\n",
       "2         Аксессуары - PS3                 2\n",
       "3         Аксессуары - PS4                 3\n",
       "4         Аксессуары - PSP                 4"
      ]
     },
     "execution_count": 35,
     "metadata": {
      "tags": []
     },
     "output_type": "execute_result"
    }
   ],
   "source": [
    "item_categories.head()"
   ]
  },
  {
   "cell_type": "code",
   "execution_count": 0,
   "metadata": {
    "colab": {},
    "colab_type": "code",
    "id": "cp6_WHBP_zhJ"
   },
   "outputs": [],
   "source": [
    "item_categories['split'] = item_categories['item_category_name'].str.split('-')\n",
    "item_categories['type'] = item_categories['split'].map(lambda x: x[0].strip())\n",
    "item_categories['type_code'] = LabelEncoder().fit_transform(item_categories['type'])\n",
    "\n",
    "item_categories['subtype'] = item_categories['split'].map(lambda x: x[1].strip() if len(x) > 1 else x[0].strip())\n",
    "item_categories['subtype_code'] = LabelEncoder().fit_transform(item_categories['subtype'])\n",
    "item_categories = item_categories[['item_category_id','type_code', 'subtype_code']]"
   ]
  },
  {
   "cell_type": "code",
   "execution_count": 0,
   "metadata": {
    "colab": {},
    "colab_type": "code",
    "id": "SkQ6qLDh_zhM"
   },
   "outputs": [],
   "source": [
    "items.drop(['item_name'], axis=1, inplace=True)"
   ]
  },
  {
   "cell_type": "markdown",
   "metadata": {},
   "source": [
    "### Sales of all products for all months"
   ]
  },
  {
   "cell_type": "markdown",
   "metadata": {},
   "source": [
    "The data contains only non-zero sales, but for more accurate predictions for shops, we must take into account zero sales"
   ]
  },
  {
   "cell_type": "code",
   "execution_count": 0,
   "metadata": {
    "colab": {},
    "colab_type": "code",
    "id": "P-dfUXhz_zhP"
   },
   "outputs": [],
   "source": [
    "m = []\n",
    "cols = ['date_block_num','shop_id','item_id']\n",
    "for i in range(34):\n",
    "    sales = sales_train[sales_train.date_block_num==i]\n",
    "    m.append(np.array(list(product([i], sales.shop_id.unique(), sales.item_id.unique())), dtype='int16'))    "
   ]
  },
  {
   "cell_type": "code",
   "execution_count": 0,
   "metadata": {
    "colab": {},
    "colab_type": "code",
    "id": "Z8ZHoICS_zhR"
   },
   "outputs": [],
   "source": [
    "m = pd.DataFrame(np.vstack(m), columns=cols)\n",
    "m['date_block_num'] = m['date_block_num'].astype(np.int8)\n",
    "m['shop_id'] = m['shop_id'].astype(np.int8)\n",
    "m['item_id'] = m['item_id'].astype(np.int16)\n",
    "m.sort_values(cols,inplace=True)"
   ]
  },
  {
   "cell_type": "markdown",
   "metadata": {},
   "source": [
    "Create total revenue for each day (shop - item)"
   ]
  },
  {
   "cell_type": "code",
   "execution_count": 0,
   "metadata": {
    "colab": {},
    "colab_type": "code",
    "id": "UMJ-y3b2_zhU"
   },
   "outputs": [],
   "source": [
    "sales_train['tr'] = sales_train['item_price'] *  sales_train['item_cnt_day']"
   ]
  },
  {
   "cell_type": "markdown",
   "metadata": {},
   "source": [
    "### Preparation of train and test data"
   ]
  },
  {
   "cell_type": "code",
   "execution_count": 0,
   "metadata": {
    "colab": {},
    "colab_type": "code",
    "id": "fUphxRq8_zhX"
   },
   "outputs": [],
   "source": [
    "group_train = sales_train.groupby(['date_block_num','shop_id','item_id']).agg({'item_cnt_day': ['sum']})\n",
    "group_train.columns = ['item_cnt_month']\n",
    "group_train.reset_index(inplace=True)\n",
    "m = pd.merge(m, group_train, on=cols, how='left')\n",
    "m['item_cnt_month'] = (m['item_cnt_month'].fillna(0).clip(0,20).astype(np.float32))"
   ]
  },
  {
   "cell_type": "code",
   "execution_count": 0,
   "metadata": {
    "colab": {},
    "colab_type": "code",
    "id": "VG3vZueD_zhZ"
   },
   "outputs": [],
   "source": [
    "m = pd.concat([m, test], ignore_index=True, sort=False, keys=cols)\n",
    "m.fillna(0, inplace=True)"
   ]
  },
  {
   "cell_type": "code",
   "execution_count": 0,
   "metadata": {
    "colab": {},
    "colab_type": "code",
    "id": "YNnll5jO_zhc"
   },
   "outputs": [],
   "source": [
    "m = pd.merge(m, shops, on=['shop_id'], how='left')\n",
    "m = pd.merge(m, items, on=['item_id'], how='left')\n",
    "m = pd.merge(m, item_categories, on=['item_category_id'], how='left')"
   ]
  },
  {
   "cell_type": "code",
   "execution_count": 44,
   "metadata": {
    "colab": {
     "base_uri": "https://localhost:8080/",
     "height": 67
    },
    "colab_type": "code",
    "id": "mH2b98lu_zhg",
    "outputId": "8a99b654-3a40-4ca3-f9f1-4fafd15aa01d"
   },
   "outputs": [
    {
     "data": {
      "text/plain": [
       "Index(['date_block_num', 'shop_id', 'item_id', 'item_cnt_month', 'ID',\n",
       "       'city_code', 'item_category_id', 'type_code', 'subtype_code'],\n",
       "      dtype='object')"
      ]
     },
     "execution_count": 44,
     "metadata": {
      "tags": []
     },
     "output_type": "execute_result"
    }
   ],
   "source": [
    "m.columns"
   ]
  },
  {
   "cell_type": "code",
   "execution_count": 0,
   "metadata": {
    "colab": {},
    "colab_type": "code",
    "id": "29nRsJc-_zho"
   },
   "outputs": [],
   "source": [
    "m['city_code'] = m['city_code'].astype(np.int8)\n",
    "m['item_category_id'] = m['item_category_id'].astype(np.int8)\n",
    "m['type_code'] = m['type_code'].astype(np.int8)\n",
    "m['subtype_code'] = m['subtype_code'].astype(np.int8)"
   ]
  },
  {
   "cell_type": "markdown",
   "metadata": {
    "colab_type": "text",
    "id": "YqFqY6hE_zhx"
   },
   "source": [
    "### Lag features"
   ]
  },
  {
   "cell_type": "code",
   "execution_count": 0,
   "metadata": {
    "colab": {},
    "colab_type": "code",
    "id": "5cWN5Dp0_zhy"
   },
   "outputs": [],
   "source": [
    "def lag_feature(data_frame, lags, column):\n",
    "    ts = data_frame[['date_block_num','shop_id','item_id',column]]\n",
    "    for i in lags:\n",
    "        shift = ts.copy()\n",
    "        shift.columns = ['date_block_num','shop_id','item_id', column +'_lag_'+str(i)]\n",
    "        shift['date_block_num'] += i\n",
    "        data_frame = pd.merge(data_frame, shift, on=['date_block_num','shop_id','item_id'], how='left')\n",
    "    return data_frame"
   ]
  },
  {
   "cell_type": "code",
   "execution_count": 0,
   "metadata": {
    "colab": {},
    "colab_type": "code",
    "id": "eshkVEeD_zh3"
   },
   "outputs": [],
   "source": [
    "m = lag_feature(m, [1,2,3,6,12], 'item_cnt_month')"
   ]
  },
  {
   "cell_type": "markdown",
   "metadata": {},
   "source": [
    "### New feature with mean and var by grouping"
   ]
  },
  {
   "cell_type": "code",
   "execution_count": 0,
   "metadata": {
    "colab": {},
    "colab_type": "code",
    "id": "5LiTy8Lf_zh8"
   },
   "outputs": [],
   "source": [
    "def add_group_stats(matrix_, groupby_feats, target, enc_feat, last_periods):\n",
    "    if not 'date_block_num' in groupby_feats:\n",
    "        print ('date_block_num must in groupby_feats')\n",
    "        return matrix_\n",
    "    \n",
    "    group_train = matrix_.groupby(groupby_feats)[target].sum().reset_index()\n",
    "    max_lags = np.max(last_periods)\n",
    "    for i in range(1,max_lags + 1):\n",
    "        shifted = group_train[groupby_feats + [target]].copy(deep=True)\n",
    "        shifted['date_block_num'] += i\n",
    "        shifted.rename({target:target + '_lag_' + str(i)},axis=1,inplace=True)\n",
    "        group_train = group_train.merge(shifted, on=groupby_feats, how='left')\n",
    "    group_train.fillna(0, inplace = True)\n",
    "    for period in last_periods:\n",
    "        lag_feats = [target + '_lag_'+str(lag) for lag in np.arange(1, period + 1)]        \n",
    "        mean = group_train[lag_feats].sum(axis = 1)/float(period)\n",
    "        mean2 = (group_train[lag_feats]**2).sum(axis = 1)/float(period)\n",
    "        group_train[enc_feat + '_avg_sale_last_' + str(period)] = mean\n",
    "        group_train[enc_feat + '_std_sale_last_' + str(period)] = (mean2 - mean**2).apply(np.sqrt)\n",
    "        group_train[enc_feat + '_std_sale_last_' + str(period)].replace(np.inf,0,inplace=True)\n",
    "        group_train[enc_feat + '_avg_sale_last_' + str(period)] /= group_train[enc_feat + '_avg_sale_last_' + str(period)].mean()\n",
    "        group_train[enc_feat + '_std_sale_last_' + str(period)] /= group_train[enc_feat+'_std_sale_last_'+str(period)].mean()\n",
    "    cols = groupby_feats + [f_ for f_ in group_train.columns.values if f_.find('_sale_last_') >= 0]\n",
    "    m = matrix_.merge(group_train[cols], on=groupby_feats, how='left')\n",
    "    return m"
   ]
  },
  {
   "cell_type": "code",
   "execution_count": 0,
   "metadata": {
    "colab": {},
    "colab_type": "code",
    "id": "ES4aaODa_zh_"
   },
   "outputs": [],
   "source": [
    "m = add_group_stats(m, ['date_block_num', 'item_id'], 'item_cnt_month', 'item', [6,12])\n",
    "m = add_group_stats(m, ['date_block_num', 'shop_id'], 'item_cnt_month', 'shop', [6,12])\n",
    "m = add_group_stats(m, ['date_block_num', 'item_category_id'], 'item_cnt_month', 'category', [12])\n",
    "m = add_group_stats(m, ['date_block_num', 'city_code'], 'item_cnt_month', 'city', [12])\n",
    "m = add_group_stats(m, ['date_block_num', 'type_code'], 'item_cnt_month', 'type', [12])\n",
    "m = add_group_stats(m, ['date_block_num', 'subtype_code'], 'item_cnt_month', 'subtype', [12])"
   ]
  },
  {
   "cell_type": "markdown",
   "metadata": {},
   "source": [
    "### Target encoding for lag features"
   ]
  },
  {
   "cell_type": "code",
   "execution_count": 0,
   "metadata": {
    "colab": {},
    "colab_type": "code",
    "id": "MnDuYjnG_ziA"
   },
   "outputs": [],
   "source": [
    "def target_encoding(matrix_, groupby_feats, target, enc_feat, lags):\n",
    "    group = matrix_.groupby(groupby_feats).agg({target:'mean'})\n",
    "    group.columns = [enc_feat]\n",
    "    group.reset_index(inplace=True)\n",
    "    m = matrix_.merge(group, on=groupby_feats, how='left')\n",
    "    m[enc_feat] = m[enc_feat].astype(np.float16)\n",
    "    m = lag_feature(m, lags, enc_feat)\n",
    "    m.drop(enc_feat, axis=1, inplace=True)\n",
    "    return m"
   ]
  },
  {
   "cell_type": "code",
   "execution_count": 0,
   "metadata": {
    "colab": {},
    "colab_type": "code",
    "id": "HsWRqM3c_ziC"
   },
   "outputs": [],
   "source": [
    "m = target_encoding(m, ['date_block_num'], 'item_cnt_month', 'date_avg_item_cnt', [1])\n",
    "m = target_encoding(m, ['date_block_num', 'item_id'], 'item_cnt_month', 'date_item_avg_item_cnt', [1,2,3,6,12])\n",
    "m = target_encoding(m, ['date_block_num', 'shop_id'], 'item_cnt_month', 'date_shop_avg_item_cnt', [1,2,3,6,12])\n",
    "m = target_encoding(m, ['date_block_num', 'item_category_id'], 'item_cnt_month', 'date_cat_avg_item_cnt', [1])\n",
    "m = target_encoding(m, ['date_block_num', 'shop_id', 'item_category_id'], 'item_cnt_month', 'date_shop_cat_avg_item_cnt', [1])\n",
    "m = target_encoding(m, ['date_block_num', 'city_code'], 'item_cnt_month', 'date_city_avg_item_cnt', [1])\n",
    "m = target_encoding(m, ['date_block_num', 'item_id', 'city_code'], 'item_cnt_month', 'date_item_city_avg_item_cnt', [1])"
   ]
  },
  {
   "cell_type": "markdown",
   "metadata": {},
   "source": [
    "### Features with sales trends"
   ]
  },
  {
   "cell_type": "markdown",
   "metadata": {},
   "source": [
    "Trends are important as they help us better understand long-term sales behavior and make more accurate predictions."
   ]
  },
  {
   "cell_type": "code",
   "execution_count": 0,
   "metadata": {
    "colab": {},
    "colab_type": "code",
    "id": "3uSUtTuA_ziE"
   },
   "outputs": [],
   "source": [
    "group_train = sales_train.groupby(['item_id']).agg({'item_price': ['mean']})\n",
    "group_train.columns = ['item_avg_item_price']\n",
    "group_train.reset_index(inplace=True)"
   ]
  },
  {
   "cell_type": "code",
   "execution_count": 0,
   "metadata": {
    "colab": {},
    "colab_type": "code",
    "id": "Kfb86CF7KMF_"
   },
   "outputs": [],
   "source": [
    "m = pd.merge(m, group_train, on=['item_id'], how='left')\n",
    "m['item_avg_item_price'] = m['item_avg_item_price'].astype(np.float16)"
   ]
  },
  {
   "cell_type": "code",
   "execution_count": 0,
   "metadata": {
    "colab": {},
    "colab_type": "code",
    "id": "xOwniOoUKUrl"
   },
   "outputs": [],
   "source": [
    "group_train = sales_train.groupby(['date_block_num','item_id']).agg({'item_price': ['mean']})\n",
    "group_train.columns = ['date_item_avg_item_price']\n",
    "group_train.reset_index(inplace=True)"
   ]
  },
  {
   "cell_type": "code",
   "execution_count": 0,
   "metadata": {
    "colab": {},
    "colab_type": "code",
    "id": "GDhkaXOuKg_H"
   },
   "outputs": [],
   "source": [
    "m = pd.merge(m, group_train, on=['date_block_num','item_id'], how='left')\n",
    "m['date_item_avg_item_price'] = m['date_item_avg_item_price'].astype(np.float16)"
   ]
  },
  {
   "cell_type": "code",
   "execution_count": 0,
   "metadata": {
    "colab": {},
    "colab_type": "code",
    "id": "CXNvtjxCL8_g"
   },
   "outputs": [],
   "source": [
    "l = [1,2,3,4,5,6]\n",
    "m = lag_feature(m, l, 'date_item_avg_item_price')"
   ]
  },
  {
   "cell_type": "code",
   "execution_count": 0,
   "metadata": {
    "colab": {},
    "colab_type": "code",
    "id": "sz9Tq2EPMFz1"
   },
   "outputs": [],
   "source": [
    "for i in l:  \n",
    "    m['delta_price_lag_' + str(i)] = \\\n",
    "        (m['date_item_avg_item_price_lag_' + str(i)] - m['item_avg_item_price']) / m['item_avg_item_price']"
   ]
  },
  {
   "cell_type": "code",
   "execution_count": 0,
   "metadata": {
    "colab": {},
    "colab_type": "code",
    "id": "aLgkVO1NMXGb"
   },
   "outputs": [],
   "source": [
    "def select_trend(row):\n",
    "    for i in l:\n",
    "        if row['delta_price_lag_' + str(i)]:\n",
    "            return row['delta_price_lag_' + str(i)]\n",
    "    return 0"
   ]
  },
  {
   "cell_type": "code",
   "execution_count": 0,
   "metadata": {
    "colab": {},
    "colab_type": "code",
    "id": "MVHqiddiMiFc"
   },
   "outputs": [],
   "source": [
    "m['delta_price_lag'] = m.apply(select_trend, axis=1)\n",
    "m['delta_price_lag'] = m['delta_price_lag'].astype(np.float16)\n",
    "m['delta_price_lag'].fillna(0, inplace=True)"
   ]
  },
  {
   "cell_type": "code",
   "execution_count": 0,
   "metadata": {
    "colab": {},
    "colab_type": "code",
    "id": "0QQJbqywMqTL"
   },
   "outputs": [],
   "source": [
    "drop_features = ['item_avg_item_price', 'date_item_avg_item_price']\n",
    "for i in l:\n",
    "    drop_features += ['date_item_avg_item_price_lag_' + str(i)]\n",
    "    drop_features += ['delta_price_lag_' + str(i)]"
   ]
  },
  {
   "cell_type": "code",
   "execution_count": 0,
   "metadata": {
    "colab": {},
    "colab_type": "code",
    "id": "DEXbzdIpacZj"
   },
   "outputs": [],
   "source": [
    "m.drop(drop_features, axis=1, inplace=True)"
   ]
  },
  {
   "cell_type": "code",
   "execution_count": 0,
   "metadata": {
    "colab": {},
    "colab_type": "code",
    "id": "8pk9apESanG5"
   },
   "outputs": [],
   "source": [
    "group_train = sales_train.groupby(['date_block_num','shop_id']).agg({'tr': ['sum']})\n",
    "group_train.columns = ['date_shop_revenue']\n",
    "group_train.reset_index(inplace=True)"
   ]
  },
  {
   "cell_type": "code",
   "execution_count": 0,
   "metadata": {
    "colab": {},
    "colab_type": "code",
    "id": "x2c3wJ7Va2bu"
   },
   "outputs": [],
   "source": [
    "m = pd.merge(m, group_train, on=['date_block_num','shop_id'], how='left')\n",
    "m['date_shop_revenue'] = m['date_shop_revenue'].astype(np.float32)"
   ]
  },
  {
   "cell_type": "code",
   "execution_count": 0,
   "metadata": {
    "colab": {},
    "colab_type": "code",
    "id": "IbmYU03hbQzB"
   },
   "outputs": [],
   "source": [
    "group_train = group_train.groupby(['shop_id']).agg({'date_shop_revenue': ['mean']})\n",
    "group_train.columns = ['shop_avg_revenue']\n",
    "group_train.reset_index(inplace=True)"
   ]
  },
  {
   "cell_type": "code",
   "execution_count": 0,
   "metadata": {
    "colab": {},
    "colab_type": "code",
    "id": "G26-M9q5bc_X"
   },
   "outputs": [],
   "source": [
    "m = pd.merge(m, group_train, on=['shop_id'], how='left')\n",
    "m['shop_avg_revenue'] = m['shop_avg_revenue'].astype(np.float32)"
   ]
  },
  {
   "cell_type": "code",
   "execution_count": 0,
   "metadata": {
    "colab": {},
    "colab_type": "code",
    "id": "qLkkgx6Abluq"
   },
   "outputs": [],
   "source": [
    "m['delta_revenue'] = (m['date_shop_revenue'] - m['shop_avg_revenue']) / m['shop_avg_revenue']\n",
    "m['delta_revenue'] = m['delta_revenue'].astype(np.float16)\n",
    "m = lag_feature(m, [1], 'delta_revenue')\n",
    "m.drop(['date_shop_revenue','shop_avg_revenue','delta_revenue'], axis=1, inplace=True)"
   ]
  },
  {
   "cell_type": "markdown",
   "metadata": {},
   "source": [
    "### Month and year features"
   ]
  },
  {
   "cell_type": "code",
   "execution_count": 0,
   "metadata": {
    "colab": {},
    "colab_type": "code",
    "id": "g-lT_Uahb6Ki"
   },
   "outputs": [],
   "source": [
    "m['month'] = m['date_block_num'] % 12\n",
    "m['year'] = (m['date_block_num'] / 12).astype(np.int8)"
   ]
  },
  {
   "cell_type": "markdown",
   "metadata": {},
   "source": [
    "### Working with sales"
   ]
  },
  {
   "cell_type": "markdown",
   "metadata": {},
   "source": [
    "Since sales of items in stores in some months are zero, various types of sales can be considered."
   ]
  },
  {
   "cell_type": "code",
   "execution_count": 0,
   "metadata": {
    "colab": {},
    "colab_type": "code",
    "id": "yHxqKJd1cHkC"
   },
   "outputs": [],
   "source": [
    "last = pd.DataFrame()\n",
    "for month in range(1,35):    \n",
    "    last_month = m.loc[(m['date_block_num']<month)&(m['item_cnt_month']>0)].groupby(['item_id','shop_id'])['date_block_num'].max()\n",
    "    data_frame = pd.DataFrame({'date_block_num':np.ones([last_month.shape[0],])*month,\n",
    "                       'item_id': last_month.index.get_level_values(0).values,\n",
    "                       'shop_id': last_month.index.get_level_values(1).values,\n",
    "                       'item_shop_last_sale': last_month.values})\n",
    "    last = last.append(data_frame)\n",
    "last['date_block_num'] = last['date_block_num'].astype(np.int8)\n",
    "\n",
    "m = m.merge(last, on=['date_block_num','item_id','shop_id'], how='left')"
   ]
  },
  {
   "cell_type": "code",
   "execution_count": 0,
   "metadata": {
    "colab": {},
    "colab_type": "code",
    "id": "HT31uB7mdDpx"
   },
   "outputs": [],
   "source": [
    "last = pd.DataFrame()\n",
    "for month in range(1,35):    \n",
    "    last_month = m.loc[(m['date_block_num']<month)&(m['item_cnt_month']>0)].groupby('item_id')['date_block_num'].max()\n",
    "    data_frame = pd.DataFrame({'date_block_num':np.ones([last_month.shape[0],]) * month,\n",
    "                       'item_id': last_month.index.values,\n",
    "                       'item_last_sale': last_month.values})\n",
    "    last = last.append(data_frame)\n",
    "last['date_block_num'] = last['date_block_num'].astype(np.int8)\n",
    "\n",
    "m = m.merge(last, on=['date_block_num','item_id'], how='left')"
   ]
  },
  {
   "cell_type": "code",
   "execution_count": 0,
   "metadata": {
    "colab": {},
    "colab_type": "code",
    "id": "OM3PSX8MeMNt"
   },
   "outputs": [],
   "source": [
    "m['item_shop_first_sale'] = m['date_block_num'] - m.groupby(['item_id','shop_id'])['date_block_num'].transform('min')\n",
    "m['item_first_sale'] = m['date_block_num'] - m.groupby('item_id')['date_block_num'].transform('min')"
   ]
  },
  {
   "cell_type": "markdown",
   "metadata": {},
   "source": [
    "Drop some rows because of using them in lags"
   ]
  },
  {
   "cell_type": "code",
   "execution_count": 78,
   "metadata": {
    "colab": {
     "base_uri": "https://localhost:8080/",
     "height": 406
    },
    "colab_type": "code",
    "id": "EatLVFM0efrg",
    "outputId": "875ad62a-751e-4c99-c506-e33db2da612a"
   },
   "outputs": [
    {
     "data": {
      "text/plain": [
       "Index(['date_block_num', 'shop_id', 'item_id', 'item_cnt_month', 'ID',\n",
       "       'city_code', 'item_category_id', 'type_code', 'subtype_code',\n",
       "       'item_cnt_month_lag_1', 'item_cnt_month_lag_2', 'item_cnt_month_lag_3',\n",
       "       'item_cnt_month_lag_6', 'item_cnt_month_lag_12', 'item_avg_sale_last_6',\n",
       "       'item_std_sale_last_6', 'item_avg_sale_last_12',\n",
       "       'item_std_sale_last_12', 'shop_avg_sale_last_6', 'shop_std_sale_last_6',\n",
       "       'shop_avg_sale_last_12', 'shop_std_sale_last_12',\n",
       "       'category_avg_sale_last_12', 'category_std_sale_last_12',\n",
       "       'city_avg_sale_last_12', 'city_std_sale_last_12',\n",
       "       'type_avg_sale_last_12', 'type_std_sale_last_12',\n",
       "       'subtype_avg_sale_last_12', 'subtype_std_sale_last_12',\n",
       "       'date_avg_item_cnt_lag_1', 'date_item_avg_item_cnt_lag_1',\n",
       "       'date_item_avg_item_cnt_lag_2', 'date_item_avg_item_cnt_lag_3',\n",
       "       'date_item_avg_item_cnt_lag_6', 'date_item_avg_item_cnt_lag_12',\n",
       "       'date_shop_avg_item_cnt_lag_1', 'date_shop_avg_item_cnt_lag_2',\n",
       "       'date_shop_avg_item_cnt_lag_3', 'date_shop_avg_item_cnt_lag_6',\n",
       "       'date_shop_avg_item_cnt_lag_12', 'date_cat_avg_item_cnt_lag_1',\n",
       "       'date_shop_cat_avg_item_cnt_lag_1', 'date_city_avg_item_cnt_lag_1',\n",
       "       'date_item_city_avg_item_cnt_lag_1', 'delta_price_lag',\n",
       "       'delta_revenue_lag_1', 'month', 'year', 'item_shop_last_sale',\n",
       "       'item_last_sale', 'item_shop_first_sale', 'item_first_sale'],\n",
       "      dtype='object')"
      ]
     },
     "execution_count": 78,
     "metadata": {
      "tags": []
     },
     "output_type": "execute_result"
    }
   ],
   "source": [
    "m = m[m.date_block_num > 11]\n",
    "m.columns"
   ]
  },
  {
   "cell_type": "code",
   "execution_count": 0,
   "metadata": {
    "colab": {},
    "colab_type": "code",
    "id": "5jgbhrO2ekiS"
   },
   "outputs": [],
   "source": [
    "m.to_pickle('sales_data.pkl')"
   ]
  },
  {
   "cell_type": "markdown",
   "metadata": {},
   "source": [
    "### Advanced features "
   ]
  },
  {
   "cell_type": "markdown",
   "metadata": {},
   "source": [
    "Due to the too long processing time of the program, it was not possible to include some other features in this solution. It would be interesting to work with the text and compare the vectors of the names of categories, shops or items, this could improve the model, since the similarity of these vectors could affect the sales ratio. Also, identifying the closest neighbors of a particular sales facility would probably help to improve the result."
   ]
  },
  {
   "cell_type": "markdown",
   "metadata": {},
   "source": [
    "## Step 3: Fitting models and predictions"
   ]
  },
  {
   "cell_type": "markdown",
   "metadata": {},
   "source": [
    "### Import some necessary libraries and delete some data"
   ]
  },
  {
   "cell_type": "code",
   "execution_count": 0,
   "metadata": {
    "colab": {},
    "colab_type": "code",
    "id": "JZLKOzAHewUb"
   },
   "outputs": [],
   "source": [
    "#import numpy as np\n",
    "#import pandas as pd\n",
    "from lightgbm import LGBMRegressor\n",
    "from xgboost import XGBRegressor\n",
    "import "
   ]
  },
  {
   "cell_type": "code",
   "execution_count": 85,
   "metadata": {
    "colab": {
     "base_uri": "https://localhost:8080/",
     "height": 406
    },
    "colab_type": "code",
    "id": "XniTsJ-b5X3y",
    "outputId": "38ea2a22-f5e8-4e73-cead-fd1bfb67b058"
   },
   "outputs": [
    {
     "data": {
      "text/plain": [
       "Index(['date_block_num', 'shop_id', 'item_id', 'item_cnt_month', 'ID',\n",
       "       'city_code', 'item_category_id', 'type_code', 'subtype_code',\n",
       "       'item_cnt_month_lag_1', 'item_cnt_month_lag_2', 'item_cnt_month_lag_3',\n",
       "       'item_cnt_month_lag_6', 'item_cnt_month_lag_12', 'item_avg_sale_last_6',\n",
       "       'item_std_sale_last_6', 'item_avg_sale_last_12',\n",
       "       'item_std_sale_last_12', 'shop_avg_sale_last_6', 'shop_std_sale_last_6',\n",
       "       'shop_avg_sale_last_12', 'shop_std_sale_last_12',\n",
       "       'category_avg_sale_last_12', 'category_std_sale_last_12',\n",
       "       'city_avg_sale_last_12', 'city_std_sale_last_12',\n",
       "       'type_avg_sale_last_12', 'type_std_sale_last_12',\n",
       "       'subtype_avg_sale_last_12', 'subtype_std_sale_last_12',\n",
       "       'date_avg_item_cnt_lag_1', 'date_item_avg_item_cnt_lag_1',\n",
       "       'date_item_avg_item_cnt_lag_2', 'date_item_avg_item_cnt_lag_3',\n",
       "       'date_item_avg_item_cnt_lag_6', 'date_item_avg_item_cnt_lag_12',\n",
       "       'date_shop_avg_item_cnt_lag_1', 'date_shop_avg_item_cnt_lag_2',\n",
       "       'date_shop_avg_item_cnt_lag_3', 'date_shop_avg_item_cnt_lag_6',\n",
       "       'date_shop_avg_item_cnt_lag_12', 'date_cat_avg_item_cnt_lag_1',\n",
       "       'date_shop_cat_avg_item_cnt_lag_1', 'date_city_avg_item_cnt_lag_1',\n",
       "       'date_item_city_avg_item_cnt_lag_1', 'delta_price_lag',\n",
       "       'delta_revenue_lag_1', 'month', 'year', 'item_shop_last_sale',\n",
       "       'item_last_sale', 'item_shop_first_sale', 'item_first_sale'],\n",
       "      dtype='object')"
      ]
     },
     "execution_count": 85,
     "metadata": {
      "tags": []
     },
     "output_type": "execute_result"
    }
   ],
   "source": [
    "m.columns"
   ]
  },
  {
   "cell_type": "code",
   "execution_count": 0,
   "metadata": {
    "colab": {},
    "colab_type": "code",
    "id": "Da4Ybyjc5cP1"
   },
   "outputs": [],
   "source": [
    "del group_train\n",
    "del items\n",
    "del shops\n",
    "del item_categories\n",
    "del sales_train"
   ]
  },
  {
   "cell_type": "markdown",
   "metadata": {},
   "source": [
    "### XGBRegressor "
   ]
  },
  {
   "cell_type": "code",
   "execution_count": 0,
   "metadata": {
    "colab": {},
    "colab_type": "code",
    "id": "Yrst7UOo6TXr"
   },
   "outputs": [],
   "source": [
    "m1 = m[[\n",
    "    'date_block_num',\n",
    "    'shop_id',\n",
    "    'item_id',\n",
    "    'item_cnt_month',\n",
    "    'city_code',\n",
    "    'item_category_id',\n",
    "    'type_code','subtype_code',\n",
    "    'item_cnt_month_lag_1','item_cnt_month_lag_2','item_cnt_month_lag_3','item_cnt_month_lag_6','item_cnt_month_lag_12',\n",
    "    'item_avg_sale_last_6', 'item_std_sale_last_6',\n",
    "    'item_avg_sale_last_12', 'item_std_sale_last_12',\n",
    "    'shop_avg_sale_last_6', 'shop_std_sale_last_6',\n",
    "    'shop_avg_sale_last_12', 'shop_std_sale_last_12',\n",
    "    'category_avg_sale_last_12', 'category_std_sale_last_12',\n",
    "    'city_avg_sale_last_12', 'city_std_sale_last_12',\n",
    "    'type_avg_sale_last_12', 'type_std_sale_last_12',\n",
    "    'subtype_avg_sale_last_12', 'subtype_std_sale_last_12',\n",
    "    'date_avg_item_cnt_lag_1',\n",
    "    'date_item_avg_item_cnt_lag_1','date_item_avg_item_cnt_lag_2','date_item_avg_item_cnt_lag_3','date_item_avg_item_cnt_lag_6','date_item_avg_item_cnt_lag_12',\n",
    "    'date_shop_avg_item_cnt_lag_1','date_shop_avg_item_cnt_lag_2','date_shop_avg_item_cnt_lag_3','date_shop_avg_item_cnt_lag_6','date_shop_avg_item_cnt_lag_12',\n",
    "    'date_cat_avg_item_cnt_lag_1',\n",
    "    'date_shop_cat_avg_item_cnt_lag_1',\n",
    "    'date_city_avg_item_cnt_lag_1',\n",
    "    'date_item_city_avg_item_cnt_lag_1',\n",
    "    'delta_price_lag',\n",
    "    'month','year',\n",
    "    'item_shop_last_sale','item_last_sale',\n",
    "    'item_shop_first_sale','item_first_sale',\n",
    "]]"
   ]
  },
  {
   "cell_type": "code",
   "execution_count": 0,
   "metadata": {
    "colab": {},
    "colab_type": "code",
    "id": "wpXUURLD6odU"
   },
   "outputs": [],
   "source": [
    "X_train = m1[m1.date_block_num < 33].drop(['item_cnt_month'], axis=1)\n",
    "Y_train = m1[m1.date_block_num < 33]['item_cnt_month']\n",
    "X_validation = m1[m1.date_block_num == 33].drop(['item_cnt_month'], axis=1)\n",
    "Y_validation = m1[m1.date_block_num == 33]['item_cnt_month']\n",
    "X_test = m1[m1.date_block_num == 34].drop(['item_cnt_month'], axis=1)"
   ]
  },
  {
   "cell_type": "code",
   "execution_count": 0,
   "metadata": {
    "colab": {},
    "colab_type": "code",
    "id": "HM090pxK6ylb"
   },
   "outputs": [],
   "source": [
    "xgb = XGBRegressor(max_depth=7, n_estimators=1000, min_child_weight=300, colsample_bytree=0.8, subsample=0.8, gamma = 0.005, eta=0.1, seed=42)"
   ]
  },
  {
   "cell_type": "code",
   "execution_count": 92,
   "metadata": {
    "colab": {
     "base_uri": "https://localhost:8080/",
     "height": 658
    },
    "colab_type": "code",
    "id": "my5jiR8A7PSs",
    "outputId": "a2a0d184-a1aa-4355-c756-86520221b24f"
   },
   "outputs": [
    {
     "name": "stderr",
     "output_type": "stream",
     "text": [
      "/usr/local/lib/python3.6/dist-packages/xgboost/core.py:587: FutureWarning: Series.base is deprecated and will be removed in a future version\n",
      "  if getattr(data, 'base', None) is not None and \\\n",
      "/usr/local/lib/python3.6/dist-packages/xgboost/core.py:588: FutureWarning: Series.base is deprecated and will be removed in a future version\n",
      "  data.base is not None and isinstance(data, np.ndarray) \\\n"
     ]
    },
    {
     "name": "stdout",
     "output_type": "stream",
     "text": [
      "[13:20:14] WARNING: /workspace/src/objective/regression_obj.cu:152: reg:linear is now deprecated in favor of reg:squarederror.\n",
      "[13:20:14] WARNING: /workspace/src/learner.cc:686: Tree method is automatically selected to be 'approx' for faster speed. To use old behavior (exact greedy algorithm on single machine), set tree_method to 'exact'.\n",
      "[0]\tvalidation_0-rmse:1.12498\tvalidation_1-rmse:1.12012\n",
      "Multiple eval metrics have been passed: 'validation_1-rmse' will be used for early stopping.\n",
      "\n",
      "Will train until validation_1-rmse hasn't improved in 40 rounds.\n",
      "[10]\tvalidation_0-rmse:0.891405\tvalidation_1-rmse:0.944362\n",
      "[20]\tvalidation_0-rmse:0.845485\tvalidation_1-rmse:0.911453\n",
      "[30]\tvalidation_0-rmse:0.831839\tvalidation_1-rmse:0.906301\n",
      "[40]\tvalidation_0-rmse:0.823181\tvalidation_1-rmse:0.904444\n",
      "[50]\tvalidation_0-rmse:0.817467\tvalidation_1-rmse:0.902418\n",
      "[60]\tvalidation_0-rmse:0.812704\tvalidation_1-rmse:0.901277\n",
      "[70]\tvalidation_0-rmse:0.808247\tvalidation_1-rmse:0.898871\n",
      "[80]\tvalidation_0-rmse:0.803801\tvalidation_1-rmse:0.89799\n",
      "[90]\tvalidation_0-rmse:0.800368\tvalidation_1-rmse:0.897915\n",
      "[100]\tvalidation_0-rmse:0.797714\tvalidation_1-rmse:0.896991\n",
      "[110]\tvalidation_0-rmse:0.795264\tvalidation_1-rmse:0.896529\n",
      "[120]\tvalidation_0-rmse:0.792921\tvalidation_1-rmse:0.897528\n",
      "[130]\tvalidation_0-rmse:0.791143\tvalidation_1-rmse:0.896068\n",
      "[140]\tvalidation_0-rmse:0.788767\tvalidation_1-rmse:0.898525\n",
      "[150]\tvalidation_0-rmse:0.786577\tvalidation_1-rmse:0.898175\n",
      "[160]\tvalidation_0-rmse:0.784951\tvalidation_1-rmse:0.899237\n",
      "[170]\tvalidation_0-rmse:0.782995\tvalidation_1-rmse:0.89941\n",
      "Stopping. Best iteration:\n",
      "[136]\tvalidation_0-rmse:0.789887\tvalidation_1-rmse:0.895796\n",
      "\n"
     ]
    },
    {
     "data": {
      "text/plain": [
       "XGBRegressor(base_score=0.5, booster='gbtree', colsample_bylevel=1,\n",
       "             colsample_bynode=1, colsample_bytree=0.8, eta=0.1, gamma=0.005,\n",
       "             importance_type='gain', learning_rate=0.1, max_delta_step=0,\n",
       "             max_depth=7, min_child_weight=300, missing=None, n_estimators=1000,\n",
       "             n_jobs=1, nthread=None, objective='reg:linear', random_state=0,\n",
       "             reg_alpha=0, reg_lambda=1, scale_pos_weight=1, seed=42,\n",
       "             silent=None, subsample=0.8, verbosity=1)"
      ]
     },
     "execution_count": 92,
     "metadata": {
      "tags": []
     },
     "output_type": "execute_result"
    }
   ],
   "source": [
    "xgb.fit(X_train, Y_train, eval_metric=\"rmse\", eval_set=[(X_train, Y_train), (X_validation, Y_validation)], verbose=10, early_stopping_rounds = 40)"
   ]
  },
  {
   "cell_type": "code",
   "execution_count": 0,
   "metadata": {
    "colab": {},
    "colab_type": "code",
    "id": "ceYzf4BNqTlL"
   },
   "outputs": [],
   "source": [
    "y_pred = xgb.predict(X_validation).clip(0, 20)\n",
    "y_test = xgb.predict(X_test).clip(0, 20)\n",
    "\n",
    "X_train_2 = pd.DataFrame({\"ID\": np.arange(y_pred.shape[0]), \"item_cnt_month\": y_pred})\n",
    "X_train_2.to_csv('xgb_result.csv', index=False)\n",
    "\n",
    "submission = pd.DataFrame({\"ID\": np.arange(y_test.shape[0]), \"item_cnt_month\": y_test})\n",
    "submission.to_csv('submission_xgb.csv', index=False)"
   ]
  },
  {
   "cell_type": "code",
   "execution_count": 95,
   "metadata": {
    "colab": {
     "base_uri": "https://localhost:8080/",
     "height": 87
    },
    "colab_type": "code",
    "id": "PqdFSYaW7qbJ",
    "outputId": "33f3d084-4866-429d-c279-149c442ec7de"
   },
   "outputs": [
    {
     "name": "stderr",
     "output_type": "stream",
     "text": [
      "/usr/local/lib/python3.6/dist-packages/sklearn/externals/joblib/__init__.py:15: DeprecationWarning: sklearn.externals.joblib is deprecated in 0.21 and will be removed in 0.23. Please import this functionality directly from joblib, which can be installed with: pip install joblib. If this warning is raised when loading pickled models, you may need to re-serialize those models with scikit-learn 0.21+.\n",
      "  warnings.warn(msg, category=DeprecationWarning)\n"
     ]
    },
    {
     "data": {
      "text/plain": [
       "['xgb.pkl']"
      ]
     },
     "execution_count": 95,
     "metadata": {
      "tags": []
     },
     "output_type": "execute_result"
    }
   ],
   "source": [
    "from sklearn.externals import joblib \n",
    "joblib.dump(xgb, 'xgb.pkl') \n"
   ]
  },
  {
   "cell_type": "markdown",
   "metadata": {},
   "source": [
    "### LGBMRegressor"
   ]
  },
  {
   "cell_type": "code",
   "execution_count": 0,
   "metadata": {
    "colab": {},
    "colab_type": "code",
    "id": "4oJrBs3urUHP"
   },
   "outputs": [],
   "source": [
    "m2 = m[[\n",
    "    'date_block_num',\n",
    "    'shop_id',    \n",
    "    'item_cnt_month',\n",
    "    'city_code',\n",
    "    'item_category_id',\n",
    "    'type_code','subtype_code',\n",
    "    'item_cnt_month_lag_1','item_cnt_month_lag_2','item_cnt_month_lag_3','item_cnt_month_lag_6','item_cnt_month_lag_12',\n",
    "    'item_avg_sale_last_6', 'item_std_sale_last_6',\n",
    "    'item_avg_sale_last_12', 'item_std_sale_last_12',\n",
    "    'shop_avg_sale_last_6', 'shop_std_sale_last_6',\n",
    "    'shop_avg_sale_last_12', 'shop_std_sale_last_12',\n",
    "    'category_avg_sale_last_12', 'category_std_sale_last_12',\n",
    "    'city_avg_sale_last_12', 'city_std_sale_last_12',\n",
    "    'type_avg_sale_last_12', 'type_std_sale_last_12',\n",
    "    'subtype_avg_sale_last_12', 'subtype_std_sale_last_12',\n",
    "    'date_avg_item_cnt_lag_1',\n",
    "    'date_item_avg_item_cnt_lag_1','date_item_avg_item_cnt_lag_2','date_item_avg_item_cnt_lag_3','date_item_avg_item_cnt_lag_6','date_item_avg_item_cnt_lag_12',\n",
    "    'date_shop_avg_item_cnt_lag_1','date_shop_avg_item_cnt_lag_2','date_shop_avg_item_cnt_lag_3','date_shop_avg_item_cnt_lag_6','date_shop_avg_item_cnt_lag_12',\n",
    "    'date_cat_avg_item_cnt_lag_1',\n",
    "    'date_shop_cat_avg_item_cnt_lag_1',\n",
    "    'date_city_avg_item_cnt_lag_1',\n",
    "    'date_item_city_avg_item_cnt_lag_1',\n",
    "    'delta_price_lag',\n",
    "    'month','year',\n",
    "    'item_shop_last_sale','item_last_sale',\n",
    "    'item_shop_first_sale','item_first_sale',\n",
    "]]\n",
    "\n",
    "categorical_features = ['shop_id','city_code','item_category_id','type_code','subtype_code']"
   ]
  },
  {
   "cell_type": "code",
   "execution_count": 0,
   "metadata": {
    "colab": {},
    "colab_type": "code",
    "id": "9V2f1ALDr3Cj"
   },
   "outputs": [],
   "source": [
    "X_train = m2[m2.date_block_num < 33].drop(['item_cnt_month'], axis=1)\n",
    "Y_train = m2[m2.date_block_num < 33]['item_cnt_month']\n",
    "X_validation = m2[m2.date_block_num == 33].drop(['item_cnt_month'], axis=1)\n",
    "Y_validation = m2[m2.date_block_num == 33]['item_cnt_month']\n",
    "X_test = m2[m2.date_block_num == 34].drop(['item_cnt_month'], axis=1)"
   ]
  },
  {
   "cell_type": "code",
   "execution_count": 0,
   "metadata": {
    "colab": {},
    "colab_type": "code",
    "id": "mxhwCfGHsK-C"
   },
   "outputs": [],
   "source": [
    "model = LGBMRegressor(max_depth = 8, n_estimators = 500, colsample_bytree=0.7, min_child_weight = 300, reg_alpha = 0.1, reg_lambda = 1, random_state = 42)"
   ]
  },
  {
   "cell_type": "code",
   "execution_count": 102,
   "metadata": {
    "colab": {
     "base_uri": "https://localhost:8080/",
     "height": 406
    },
    "colab_type": "code",
    "id": "rvAYAdj5sZEG",
    "outputId": "6f56daf5-20cb-4a72-cee3-f983b2e362e2"
   },
   "outputs": [
    {
     "name": "stderr",
     "output_type": "stream",
     "text": [
      "/usr/local/lib/python3.6/dist-packages/lightgbm/basic.py:1209: UserWarning: categorical_feature in Dataset is overridden.\n",
      "New categorical_feature is ['city_code', 'item_category_id', 'shop_id', 'subtype_code', 'type_code']\n",
      "  'New categorical_feature is {}'.format(sorted(list(categorical_feature))))\n"
     ]
    },
    {
     "name": "stdout",
     "output_type": "stream",
     "text": [
      "Training until validation scores don't improve for 40 rounds.\n",
      "[10]\ttraining's rmse: 0.914915\ttraining's l2: 0.837069\tvalid_1's rmse: 0.938257\tvalid_1's l2: 0.880326\n",
      "[20]\ttraining's rmse: 0.854046\ttraining's l2: 0.729395\tvalid_1's rmse: 0.900808\tvalid_1's l2: 0.811455\n",
      "[30]\ttraining's rmse: 0.833372\ttraining's l2: 0.694509\tvalid_1's rmse: 0.893426\tvalid_1's l2: 0.79821\n",
      "[40]\ttraining's rmse: 0.823877\ttraining's l2: 0.678774\tvalid_1's rmse: 0.891299\tvalid_1's l2: 0.794414\n",
      "[50]\ttraining's rmse: 0.817065\ttraining's l2: 0.667596\tvalid_1's rmse: 0.891912\tvalid_1's l2: 0.795507\n",
      "[60]\ttraining's rmse: 0.81235\ttraining's l2: 0.659913\tvalid_1's rmse: 0.890982\tvalid_1's l2: 0.79385\n",
      "[70]\ttraining's rmse: 0.808223\ttraining's l2: 0.653224\tvalid_1's rmse: 0.892136\tvalid_1's l2: 0.795906\n",
      "[80]\ttraining's rmse: 0.804514\ttraining's l2: 0.647243\tvalid_1's rmse: 0.892472\tvalid_1's l2: 0.796506\n",
      "[90]\ttraining's rmse: 0.80169\ttraining's l2: 0.642707\tvalid_1's rmse: 0.892535\tvalid_1's l2: 0.796619\n",
      "[100]\ttraining's rmse: 0.798874\ttraining's l2: 0.638199\tvalid_1's rmse: 0.891674\tvalid_1's l2: 0.795082\n",
      "Early stopping, best iteration is:\n",
      "[60]\ttraining's rmse: 0.81235\ttraining's l2: 0.659913\tvalid_1's rmse: 0.890982\tvalid_1's l2: 0.79385\n"
     ]
    },
    {
     "data": {
      "text/plain": [
       "LGBMRegressor(boosting_type='gbdt', class_weight=None, colsample_bytree=0.7,\n",
       "              importance_type='split', learning_rate=0.1, max_depth=8,\n",
       "              min_child_samples=20, min_child_weight=300, min_split_gain=0.0,\n",
       "              n_estimators=500, n_jobs=-1, num_leaves=31, objective=None,\n",
       "              random_state=42, reg_alpha=0.1, reg_lambda=1, silent=True,\n",
       "              subsample=1.0, subsample_for_bin=200000, subsample_freq=0)"
      ]
     },
     "execution_count": 102,
     "metadata": {
      "tags": []
     },
     "output_type": "execute_result"
    }
   ],
   "source": [
    "model.fit(X_train, Y_train, eval_metric=\"rmse\", eval_set=[(X_train, Y_train), (X_validation, Y_validation)], verbose=10, early_stopping_rounds = 40, categorical_feature = categorical_features) "
   ]
  },
  {
   "cell_type": "code",
   "execution_count": 0,
   "metadata": {
    "colab": {},
    "colab_type": "code",
    "id": "nZGJXniIs7fZ"
   },
   "outputs": [],
   "source": [
    "y_pred_l = model.predict(X_validation).clip(0, 20)\n",
    "y_test_l = model.predict(X_test).clip(0, 20)\n",
    "\n",
    "X_train_2_l = pd.DataFrame({\"ID\": np.arange(y_pred.shape[0]), \"item_cnt_month\": y_pred_l})\n",
    "X_train_2_l.to_csv('lightgbm_result.csv', index=False)\n",
    "\n",
    "submission = pd.DataFrame({\"ID\": np.arange(y_test_l.shape[0]), \"item_cnt_month\": y_test_l})\n",
    "submission.to_csv('submission_lightgbm.csv', index=False)"
   ]
  },
  {
   "cell_type": "code",
   "execution_count": 116,
   "metadata": {
    "colab": {
     "base_uri": "https://localhost:8080/",
     "height": 34
    },
    "colab_type": "code",
    "id": "l1qAFY1suHVq",
    "outputId": "9e4a62c2-bb4c-46bd-ab63-0d7e0d8f6c25"
   },
   "outputs": [
    {
     "data": {
      "text/plain": [
       "['lightgbm.pkl']"
      ]
     },
     "execution_count": 116,
     "metadata": {
      "tags": []
     },
     "output_type": "execute_result"
    }
   ],
   "source": [
    "joblib.dump(model, 'lightgbm.pkl') "
   ]
  },
  {
   "cell_type": "markdown",
   "metadata": {},
   "source": [
    "## Step 4: Ensemblings"
   ]
  },
  {
   "cell_type": "markdown",
   "metadata": {},
   "source": [
    "### Averaging"
   ]
  },
  {
   "cell_type": "markdown",
   "metadata": {},
   "source": [
    "Find average of two models to make better predictions"
   ]
  },
  {
   "cell_type": "code",
   "execution_count": 0,
   "metadata": {
    "colab": {},
    "colab_type": "code",
    "id": "Tac36iFxx_M_"
   },
   "outputs": [],
   "source": [
    "y_test_av = (y_test + y_test_l)/2\n",
    "submission = pd.DataFrame({\"ID\": np.arange(y_test.shape[0]), \"item_cnt_month\": y_test_av})\n",
    "submission.to_csv('submission_lightgbm_xgb_average.csv', index=False)"
   ]
  },
  {
   "cell_type": "markdown",
   "metadata": {},
   "source": [
    "### Linear Regression for two models"
   ]
  },
  {
   "cell_type": "markdown",
   "metadata": {},
   "source": [
    "If one model has more weight and the other less, we can achieve better results."
   ]
  },
  {
   "cell_type": "code",
   "execution_count": 0,
   "metadata": {
    "colab": {},
    "colab_type": "code",
    "id": "Sjz8g717ub_B"
   },
   "outputs": [],
   "source": [
    "X_train_level2 = pd.DataFrame()"
   ]
  },
  {
   "cell_type": "code",
   "execution_count": 0,
   "metadata": {
    "colab": {},
    "colab_type": "code",
    "id": "bnx8F5HLvBiS"
   },
   "outputs": [],
   "source": [
    "df_lightgbm = pd.read_csv('lightgbm_result.csv')"
   ]
  },
  {
   "cell_type": "code",
   "execution_count": 0,
   "metadata": {
    "colab": {},
    "colab_type": "code",
    "id": "zGe6mLLtv-WA"
   },
   "outputs": [],
   "source": [
    "df_xgb = pd.read_csv('xgb_result.csv')"
   ]
  },
  {
   "cell_type": "code",
   "execution_count": 0,
   "metadata": {
    "colab": {},
    "colab_type": "code",
    "id": "5I_GwXlxwPvL"
   },
   "outputs": [],
   "source": [
    "X_train_level2['lgb'] = df_lightgbm['item_cnt_month']\n",
    "X_train_level2['xgb'] = df_xgb['item_cnt_month']"
   ]
  },
  {
   "cell_type": "code",
   "execution_count": 0,
   "metadata": {
    "colab": {},
    "colab_type": "code",
    "id": "JN6ZcZuow_bg"
   },
   "outputs": [],
   "source": [
    "X_test_level2 = pd.DataFrame()"
   ]
  },
  {
   "cell_type": "code",
   "execution_count": 0,
   "metadata": {
    "colab": {},
    "colab_type": "code",
    "id": "aaOWSX5qxIIJ"
   },
   "outputs": [],
   "source": [
    "df_lightgbm_test = pd.read_csv('submission_lightgbm.csv')\n",
    "df_xgb_test = pd.read_csv('submission_xgb.csv')"
   ]
  },
  {
   "cell_type": "code",
   "execution_count": 0,
   "metadata": {
    "colab": {},
    "colab_type": "code",
    "id": "7U8l29uJzlHa"
   },
   "outputs": [],
   "source": [
    "X_test_level2['lgb'] = df_lightgbm_test['item_cnt_month']\n",
    "X_test_level2['xgb'] = df_xgb_test['item_cnt_month'] "
   ]
  },
  {
   "cell_type": "code",
   "execution_count": 0,
   "metadata": {
    "colab": {},
    "colab_type": "code",
    "id": "m5_xWTFh2oTL"
   },
   "outputs": [],
   "source": [
    "Y_train_level2 = m2[m2.date_block_num == 33]['item_cnt_month']"
   ]
  },
  {
   "cell_type": "code",
   "execution_count": 129,
   "metadata": {
    "colab": {
     "base_uri": "https://localhost:8080/",
     "height": 34
    },
    "colab_type": "code",
    "id": "BsNrieaZ4XXd",
    "outputId": "196cbba0-1ab7-4ed6-f845-094d9b4bb2d9"
   },
   "outputs": [
    {
     "data": {
      "text/plain": [
       "(214200, 2)"
      ]
     },
     "execution_count": 129,
     "metadata": {
      "tags": []
     },
     "output_type": "execute_result"
    }
   ],
   "source": [
    "X_test_level2.shape"
   ]
  },
  {
   "cell_type": "code",
   "execution_count": 130,
   "metadata": {
    "colab": {
     "base_uri": "https://localhost:8080/",
     "height": 34
    },
    "colab_type": "code",
    "id": "iitQgx6C4XVC",
    "outputId": "44d661c0-fff7-4a06-e8ec-952bf3024294"
   },
   "outputs": [
    {
     "data": {
      "text/plain": [
       "(238172, 2)"
      ]
     },
     "execution_count": 130,
     "metadata": {
      "tags": []
     },
     "output_type": "execute_result"
    }
   ],
   "source": [
    "X_train_level2.shape"
   ]
  },
  {
   "cell_type": "code",
   "execution_count": 0,
   "metadata": {
    "colab": {},
    "colab_type": "code",
    "id": "Yv24dyCe0HQu"
   },
   "outputs": [],
   "source": [
    "lr_level2 = LinearRegression()\n",
    "lr_level2.fit(X_train_level2, Y_train_level2)\n",
    "Y_test_level2 = lr_level2.predict(X_test_level2)\n",
    "submission = pd.DataFrame({\"ID\": np.arange(Y_test_level2.shape[0]), \"item_cnt_month\": Y_test_level2})\n",
    "submission.to_csv('lr_with_xgb_and_lightgbm.csv', index=False)"
   ]
  },
  {
   "cell_type": "markdown",
   "metadata": {},
   "source": [
    "### Ridge with hyperparameter tuning (alpha) for two models"
   ]
  },
  {
   "cell_type": "code",
   "execution_count": 0,
   "metadata": {
    "colab": {},
    "colab_type": "code",
    "id": "OEle1H9K14sp"
   },
   "outputs": [],
   "source": [
    "ridge = RidgeCV(alphas=[1e-3, 1e-2, 1e-1, 1]).fit(X_train_level2, Y_train_level2)"
   ]
  },
  {
   "cell_type": "code",
   "execution_count": 0,
   "metadata": {
    "colab": {},
    "colab_type": "code",
    "id": "XW9WEbSZ5sWb"
   },
   "outputs": [],
   "source": [
    "Y_test_level2_r = ridge.predict(X_test_level2)\n",
    "submission = pd.DataFrame({\"ID\": np.arange(Y_test_level2_r.shape[0]), \"item_cnt_month\": Y_test_level2_r})\n",
    "submission.to_csv('ridge_with_xgb_and_lightgbm.csv', index=False)"
   ]
  },
  {
   "cell_type": "markdown",
   "metadata": {
    "colab": {},
    "colab_type": "code",
    "id": "Sh39f8K66CRH"
   },
   "source": [
    "## Step 5: public score"
   ]
  },
  {
   "cell_type": "markdown",
   "metadata": {},
   "source": [
    "1. Averaging 0.90730\n",
    "2. Linear Regression for two models 0.90405\n",
    "3. Ridge with hyperparameter tuning (alpha) for two models 0.90757"
   ]
  }
 ],
 "metadata": {
  "colab": {
   "machine_shape": "hm",
   "name": "Final_project.ipynb",
   "provenance": [],
   "version": "0.3.2"
  },
  "kernelspec": {
   "display_name": "Python 3",
   "language": "python",
   "name": "python3"
  },
  "language_info": {
   "codemirror_mode": {
    "name": "ipython",
    "version": 3
   },
   "file_extension": ".py",
   "mimetype": "text/x-python",
   "name": "python",
   "nbconvert_exporter": "python",
   "pygments_lexer": "ipython3",
   "version": "3.7.1"
  }
 },
 "nbformat": 4,
 "nbformat_minor": 1
}
